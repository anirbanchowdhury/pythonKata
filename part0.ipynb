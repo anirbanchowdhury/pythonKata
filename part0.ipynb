{
 "metadata": {
  "language_info": {
   "codemirror_mode": {
    "name": "ipython",
    "version": 3
   },
   "file_extension": ".py",
   "mimetype": "text/x-python",
   "name": "python",
   "nbconvert_exporter": "python",
   "pygments_lexer": "ipython3",
   "version": "3.9.1-final"
  },
  "orig_nbformat": 2,
  "kernelspec": {
   "name": "python3",
   "display_name": "Python 3.9.1 64-bit",
   "metadata": {
    "interpreter": {
     "hash": "aee8b7b246df8f9039afb4144a1f6fd8d2ca17a180786b69acc140d282b71a49"
    }
   }
  }
 },
 "nbformat": 4,
 "nbformat_minor": 2,
 "cells": [
  {
   "source": [],
   "cell_type": "markdown",
   "metadata": {}
  },
  {
   "source": [
    "# Turtle Programming\n",
    "Run the cell below by clicking the green arrow or pressing `Shift+Enter`."
   ],
   "cell_type": "markdown",
   "metadata": {}
  },
  {
   "cell_type": "code",
   "execution_count": null,
   "metadata": {},
   "outputs": [],
   "source": [
    "import turtle\n",
    "alex = Turtle()\n",
    "alex.color('red', 'yellow')\n",
    "alex.begin_fill()\n",
    "while True:\n",
    "    alex.forward(200)\n",
    "    alex.left(170)\n",
    "    if abs(alex.pos()) < 1:\n",
    "        break\n",
    "alex.end_fill()\n",
    "done()"
   ]
  },
  {
   "source": [
    "Let's break down what just happened.\n",
    "\n",
    "## Introduction\n",
    "First, we imported the `turtle` module. <Some basic explanation>"
   ],
   "cell_type": "markdown",
   "metadata": {}
  },
  {
   "source": [
    "import turtle"
   ],
   "cell_type": "code",
   "metadata": {},
   "execution_count": 1,
   "outputs": []
  },
  {
   "source": [
    "Then, we created a turtle which we stored in a variable `alex`. So we have \"alex\" the turtle."
   ],
   "cell_type": "markdown",
   "metadata": {}
  },
  {
   "source": [
    "alex = turtle.Turtle()"
   ],
   "cell_type": "code",
   "metadata": {},
   "execution_count": null,
   "outputs": []
  },
  {
   "source": [
    "Notice that to colour the shape we simply stated that `color('red', 'yellow'). The shape drawn is essentially the route which we told Alex to go."
   ],
   "cell_type": "markdown",
   "metadata": {}
  },
  {
   "cell_type": "code",
   "execution_count": null,
   "metadata": {},
   "outputs": [],
   "source": [
    "# Tell Alex to move forward 200 steps\n",
    "forward(200)\n",
    "# Then, turn left 170 degrees.\n",
    "left(170)"
   ]
  },
  {
   "source": [
    "The above commands draw a single long ellipsis. Now we want to keep repeating the action, which is why used `while(True)`. As the word suggests, those actions will be executed forever. To break out of the loop, we use a conditional. These will be covered more in part 3.\n",
    "```\n",
    "if abs(alex.pos()) < 1:\n",
    "        break\n",
    "```"
   ],
   "cell_type": "markdown",
   "metadata": {}
  },
  {
   "source": [
    "(Do we want to go into specifics here?)\n",
    "Below is some other stuff I tried to explain for loops with (can ignore)"
   ],
   "cell_type": "markdown",
   "metadata": {}
  },
  {
   "cell_type": "code",
   "execution_count": null,
   "metadata": {},
   "outputs": [],
   "source": [
    "Try moving your turtle around with different methods like `left()`, `right()`, `forward()`, and `backward()`. You can also change characteristics of the turtle, such as its `size`, `color`, and `speed`."
   ]
  },
  {
   "source": [
    "alex.right(90)\n",
    "alex.forward(100)\n",
    "alex.left(90)\n",
    "alex.backward(100)"
   ],
   "cell_type": "code",
   "metadata": {},
   "execution_count": null,
   "outputs": []
  },
  {
   "cell_type": "code",
   "execution_count": null,
   "metadata": {},
   "outputs": [],
   "source": [
    "alex.right(90)\n",
    "alex.forward(100)\n",
    "alex.left(90)\n",
    "alex.backward(100)"
   ]
  },
  {
   "source": [
    "Surely, there's a smarter way to do this. If we want to execute a set of commands 2 times, we should just tell the computer to do the same thing twice!"
   ],
   "cell_type": "markdown",
   "metadata": {}
  },
  {
   "cell_type": "code",
   "execution_count": null,
   "metadata": {},
   "outputs": [],
   "source": [
    "for i in range(2):\n",
    "    alex.right(90)\n",
    "    alex.forward(100)\n",
    "    alex.left(90)\n",
    "    alex.backward(100)"
   ]
  }
 ]
}