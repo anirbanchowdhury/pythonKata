{
 "cells": [
  {
   "cell_type": "markdown",
   "metadata": {},
   "source": [
    "# Day 3 : 60 min\n",
    "## Goals at end of session \n",
    "1. Able to understand concept of boolean, conditional logic and loops\n",
    "2. Able to make use of imported libraries\n",
    "\n",
    "\n",
    "## Agenda : \n",
    "1. Boolean\n",
    "2. If/else, nested if/else <br>\n",
    "3. Loop - which consumes from a list<br>\n",
    "4. Import math module and call some inbuilt functions <br> "
   ]
  },
  {
   "cell_type": "markdown",
   "metadata": {},
   "source": [
    "### Boolean\n",
    "Boolean (bool) is a data type in Python. It can be one of two values: True or False."
   ]
  },
  {
   "cell_type": "code",
   "execution_count": null,
   "metadata": {},
   "outputs": [],
   "source": [
    "10 > 9"
   ]
  },
  {
   "cell_type": "code",
   "execution_count": null,
   "metadata": {},
   "outputs": [],
   "source": [
    "# check the type of something, can be an variable or an expression\n",
    "type(10 > 9)"
   ]
  },
  {
   "cell_type": "code",
   "execution_count": null,
   "metadata": {},
   "outputs": [],
   "source": [
    "10 < 9"
   ]
  },
  {
   "cell_type": "markdown",
   "metadata": {},
   "source": [
    "### Conditions: if, else, elif statements\n",
    "The program will check the conditions in order and will execute the first one where the condition is True"
   ]
  },
  {
   "cell_type": "code",
   "execution_count": null,
   "metadata": {},
   "outputs": [],
   "source": [
    "if 100 < 1000:\n",
    "    print('Yes')"
   ]
  },
  {
   "cell_type": "code",
   "execution_count": null,
   "metadata": {},
   "outputs": [],
   "source": [
    "if 100 > 1000:\n",
    "    print('100 is larger than 1000')\n",
    "else:\n",
    "    print('100 is smaller than 1000')"
   ]
  },
  {
   "cell_type": "code",
   "execution_count": null,
   "metadata": {},
   "outputs": [],
   "source": [
    "if 1000 > 1000:\n",
    "    print('1000 is larger than 1000')\n",
    "elif 1000 < 1000:\n",
    "    print('1000 is smaller than 1000')\n",
    "else:\n",
    "    print('1000 is equal to 1000')"
   ]
  },
  {
   "cell_type": "markdown",
   "metadata": {},
   "source": [
    "### <font color=red> Try it!  </font> <br>\n",
    "\n",
    "<font color=brown>\n",
    "Fill in the function below: <br>\n",
    "Given a number, please write an if else statement to check whether a number is 0 and print the result</font>"
   ]
  },
  {
   "cell_type": "code",
   "execution_count": null,
   "metadata": {},
   "outputs": [],
   "source": [
    "def check_0(num):\n",
    "    # please fill in your answer here"
   ]
  },
  {
   "cell_type": "markdown",
   "metadata": {},
   "source": [
    "### [Advanced][Optional] Nested Conditions"
   ]
  },
  {
   "cell_type": "markdown",
   "metadata": {},
   "source": [
    "In school, depending on marks a student gets in exam, he/she will receive a final grade, e.g. A, B, C.\n",
    "Let us define a function that given marks, returns the final result containing two piece of information: pass/fail and grade based on rules below:\n",
    "1. A student fails an exam if he/she does not get 60 marks. The student receives a grade of F in this case.\n",
    "2. In the case where a student passes an exam, the grade he/she gets follow: <br>\n",
    "    2.1. if marks >= 90, grade A <br>\n",
    "    2.2. if 80 <= marks < 90, grade B <br>\n",
    "    2.3 if 70 <= marks < 80, grade C <br>\n",
    "    2.4 if 60 <= marks < 70, grade D "
   ]
  },
  {
   "cell_type": "code",
   "execution_count": null,
   "metadata": {},
   "outputs": [],
   "source": [
    "def get_result_and_grade(marks):\n",
    "    result = ''\n",
    "    \n",
    "    # determine pass or fail first, as fail always comes with F but pass may have various grades\n",
    "    if marks < 60:\n",
    "        result += 'Fail, F'\n",
    "    else:\n",
    "        result += 'Pass, '\n",
    "        \n",
    "        # determine grade if pass\n",
    "        if marks < 70:\n",
    "            result += 'D'\n",
    "        elif marks < 80:\n",
    "            result += 'C'\n",
    "        elif marks < 90:\n",
    "            result += 'B'\n",
    "        else:\n",
    "            result += 'A'\n",
    "        \n",
    "    return result"
   ]
  },
  {
   "cell_type": "code",
   "execution_count": null,
   "metadata": {},
   "outputs": [],
   "source": [
    "# call the function\n",
    "get_result_and_grade(90)"
   ]
  },
  {
   "cell_type": "markdown",
   "metadata": {},
   "source": [
    "### Loops"
   ]
  },
  {
   "cell_type": "markdown",
   "metadata": {},
   "source": [
    "#### For loop with range\n",
    "\n",
    "range is a built in function in Python. It will be used when you would like to perform a task multiple times"
   ]
  },
  {
   "cell_type": "code",
   "execution_count": null,
   "metadata": {},
   "outputs": [],
   "source": [
    "range(5)"
   ]
  },
  {
   "cell_type": "code",
   "execution_count": null,
   "metadata": {},
   "outputs": [],
   "source": [
    "for index in range(5):\n",
    "    print(index)"
   ]
  },
  {
   "cell_type": "markdown",
   "metadata": {},
   "source": [
    "#### While loop"
   ]
  },
  {
   "cell_type": "code",
   "execution_count": null,
   "metadata": {},
   "outputs": [],
   "source": [
    "# initialize the variable\n",
    "index = 10\n",
    "while index > 0:  # if the controlling expression is true, it will execute, otherwise it will exit\n",
    "    print(index)\n",
    "    index = index - 1"
   ]
  },
  {
   "cell_type": "markdown",
   "metadata": {},
   "source": [
    "### <font color=red> Try it!  </font> <br>\n",
    "<font color=brown> Print 5 to 10 in order </font>\n",
    "\n"
   ]
  },
  {
   "cell_type": "markdown",
   "metadata": {},
   "source": [
    "### Math functions\n",
    "\n",
    "Python provides a collection of functions and methods that allow users to perform some actions without needing to write their own code. These functions and methods are built in. They can come in the format of being alone (e.g. help() we learned in previous session) or libraries. <br>\n",
    "Math is a library that includes a list of functions performing various arithmetic tasks."
   ]
  },
  {
   "cell_type": "code",
   "execution_count": null,
   "metadata": {},
   "outputs": [],
   "source": [
    "# import math library\n",
    "import math"
   ]
  },
  {
   "cell_type": "code",
   "execution_count": null,
   "metadata": {},
   "outputs": [],
   "source": [
    "# construct a list to be used by this section\n",
    "data = [1, 2, 3]"
   ]
  },
  {
   "cell_type": "code",
   "execution_count": null,
   "metadata": {},
   "outputs": [],
   "source": [
    "# get smallest integer greater than or equal to a value\n",
    "math.ceil(9.9)"
   ]
  },
  {
   "cell_type": "code",
   "execution_count": null,
   "metadata": {},
   "outputs": [],
   "source": [
    "# get largest integer less than or equal to a value\n",
    "math.floor(9.9)"
   ]
  },
  {
   "cell_type": "code",
   "execution_count": null,
   "metadata": {},
   "outputs": [],
   "source": [
    "# get x to the power of y\n",
    "math.pow(2, 3)"
   ]
  },
  {
   "cell_type": "code",
   "execution_count": null,
   "metadata": {},
   "outputs": [],
   "source": [
    "math.pow(3,2)"
   ]
  },
  {
   "cell_type": "code",
   "execution_count": null,
   "metadata": {},
   "outputs": [],
   "source": [
    "# we can use ** as well to get power\n",
    "2**4"
   ]
  },
  {
   "cell_type": "code",
   "execution_count": null,
   "metadata": {},
   "outputs": [],
   "source": [
    "# get square root of x\n",
    "math.sqrt(16)"
   ]
  },
  {
   "cell_type": "markdown",
   "metadata": {},
   "source": [
    "### <font color=red> Try it!  </font> <br>\n",
    "<font color=brown> Get the square root of 64 </font>"
   ]
  },
  {
   "cell_type": "markdown",
   "metadata": {},
   "source": [
    "## Materials\n",
    "1. Operators: https://www.w3schools.com/python/python_operators.asp <br>\n",
    "   Include: arithmetic operators, assignment operators, comparison operators, logical operators, etc.\n",
    "2. Conditions and loops: http://www.openbookproject.net/books/bpp4awd/ch04.html <br>\n",
    "3. Math functions documentation: https://docs.python.org/3/library/math.html"
   ]
  },
  {
   "cell_type": "markdown",
   "metadata": {},
   "source": [
    "## Exercises\n",
    ">- Please write your answer and assign it to the variable\n",
    ">- You get the question correctly if you dont see \"assertion error\""
   ]
  },
  {
   "cell_type": "markdown",
   "metadata": {},
   "source": [
    "<span style='color: brown'> Question 1: What is 3 to the power of 3? </span>"
   ]
  },
  {
   "cell_type": "code",
   "execution_count": null,
   "metadata": {},
   "outputs": [],
   "source": [
    "power = # please fill in your answer here\n",
    "assert(power == 27)"
   ]
  },
  {
   "cell_type": "markdown",
   "metadata": {},
   "source": [
    "<span style='color: brown'> Question 2: What is the square root of 64? </span>"
   ]
  },
  {
   "cell_type": "code",
   "execution_count": null,
   "metadata": {},
   "outputs": [],
   "source": [
    "sqrt = # please fill in your answer here\n",
    "assert(sqrt == 8)"
   ]
  },
  {
   "cell_type": "markdown",
   "metadata": {},
   "source": [
    "<span style='color: brown'> Question 3: Print 10 to 1 in reverse order </span>"
   ]
  },
  {
   "cell_type": "markdown",
   "metadata": {},
   "source": [
    "<span style='color: brown'> <b>[Advanced]</b>  Question 4:  </span> <br>\n",
    "<span style='color: brown'> Print the following pattern (you may ignore the space in between)</span>\n",
    "> <p style='color: brown'> 5 </p>\n",
    "> <p style='color: brown'> 5 4 </p>\n",
    "> <p style='color: brown'> 5 4 3 </p>\n",
    "> <p style='color: brown'> 5 4 3 2 </p>\n",
    "> <p style='color: brown'> 5 4 3 2 1 </p>\n",
    "> <p style='color: brown'> 5 4 3 2 1 0 </p>"
   ]
  },
  {
   "cell_type": "markdown",
   "metadata": {},
   "source": [
    "<span style='color: brown'> Hint:</span> <br>\n",
    "<span style='color: brown'>1. To print without going to a new line, you can use print(x, end='') </span> <br>\n",
    "<span style='color: brown'>2. You need nested loop for this question </span>"
   ]
  },
  {
   "cell_type": "code",
   "execution_count": null,
   "metadata": {},
   "outputs": [],
   "source": [
    "# example of printing without new line\n",
    "size = 1\n",
    "while size <= 2:\n",
    "    print(0, end = '')\n",
    "    size = size + 1"
   ]
  }
 ],
 "metadata": {
  "kernelspec": {
   "display_name": "Python 3",
   "language": "python",
   "name": "python3"
  },
  "language_info": {
   "codemirror_mode": {
    "name": "ipython",
    "version": 3
   },
   "file_extension": ".py",
   "mimetype": "text/x-python",
   "name": "python",
   "nbconvert_exporter": "python",
   "pygments_lexer": "ipython3",
   "version": "3.7.4"
  }
 },
 "nbformat": 4,
 "nbformat_minor": 2
}
