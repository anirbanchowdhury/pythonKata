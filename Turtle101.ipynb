{
 "metadata": {
  "language_info": {
   "codemirror_mode": {
    "name": "ipython",
    "version": 3
   },
   "file_extension": ".py",
   "mimetype": "text/x-python",
   "name": "python",
   "nbconvert_exporter": "python",
   "pygments_lexer": "ipython3",
   "version": "3.9.1-final"
  },
  "orig_nbformat": 2,
  "kernelspec": {
   "name": "python3",
   "display_name": "Python 3.9.1 64-bit",
   "metadata": {
    "interpreter": {
     "hash": "aee8b7b246df8f9039afb4144a1f6fd8d2ca17a180786b69acc140d282b71a49"
    }
   }
  }
 },
 "nbformat": 4,
 "nbformat_minor": 2,
 "cells": [
  {
   "source": [
    "# Turtle Programming\n",
    "`turtle` allows you to create pictures and shapes on a virtual canvas. The onscreen pen you use to draw is called the \"turtle\"."
   ],
   "cell_type": "markdown",
   "metadata": {}
  },
  {
   "source": [
    "## Introduction\n",
    "1. Import the turtle module"
   ],
   "cell_type": "markdown",
   "metadata": {}
  },
  {
   "source": [
    "import turtle"
   ],
   "cell_type": "code",
   "metadata": {},
   "execution_count": 1,
   "outputs": []
  },
  {
   "source": [
    "2. Open the turtle screen"
   ],
   "cell_type": "markdown",
   "metadata": {}
  },
  {
   "cell_type": "code",
   "execution_count": null,
   "metadata": {},
   "outputs": [],
   "source": [
    "x = turtle.getscreen()"
   ]
  },
  {
   "source": [
    "3. Create a turtle named \"alex\""
   ],
   "cell_type": "markdown",
   "metadata": {}
  },
  {
   "source": [
    "alex = turtle.Turtle()"
   ],
   "cell_type": "code",
   "metadata": {},
   "execution_count": null,
   "outputs": []
  },
  {
   "source": [
    "4. Move your turtle around with different methods like `left()`, `right()`, `forward()`, and `backward()`. You can also change characteristics of the turtle, such as its `size`, `color`, and `speed`."
   ],
   "cell_type": "markdown",
   "metadata": {}
  },
  {
   "cell_type": "code",
   "execution_count": null,
   "metadata": {},
   "outputs": [],
   "source": [
    "alex.right(90)\n",
    "alex.forward(100)\n",
    "alex.left(90)\n",
    "alex.backward(100)"
   ]
  },
  {
   "source": [
    "5. If we repeat the above commands, we now have got Alex the turtle to draw us a square!"
   ],
   "cell_type": "markdown",
   "metadata": {}
  },
  {
   "cell_type": "code",
   "execution_count": null,
   "metadata": {},
   "outputs": [],
   "source": [
    "alex.right(90)\n",
    "alex.forward(100)\n",
    "alex.left(90)\n",
    "alex.backward(100)"
   ]
  },
  {
   "source": [
    "6. Surely, there's a smarter way to do this. If we want to execute a set of commands 2 times, we should just tell the computer to do the same thing twice!"
   ],
   "cell_type": "markdown",
   "metadata": {}
  },
  {
   "cell_type": "code",
   "execution_count": null,
   "metadata": {},
   "outputs": [],
   "source": [
    "for i in range(2):\n",
    "    alex.right(90)\n",
    "    alex.forward(100)\n",
    "    alex.left(90)\n",
    "    alex.backward(100)"
   ]
  }
 ]
}