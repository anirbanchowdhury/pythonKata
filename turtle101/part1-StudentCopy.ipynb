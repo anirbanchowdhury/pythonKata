{
 "cells": [
  {
   "cell_type": "markdown",
   "metadata": {},
   "source": [
    "# Part 1 - 30 min\n",
    "\n",
    "## Agenda\n",
    "- Basic Python concepts (simple statements and variables)\n",
    "- Basic Python exercise at the end\n",
    "\n",
    "You can also proceed at your own (faster) pace if you like and proceed to day 2 material. \n",
    "If you have any questions on more advanced sections, please wait till we catchup to the respective section. :) \n",
    "\n",
    "Back to the basics, now. Let's use Python to do some math for us!"
   ]
  },
  {
   "cell_type": "code",
   "execution_count": null,
   "metadata": {
    "scrolled": true
   },
   "outputs": [],
   "source": [
    "4+7"
   ]
  },
  {
   "cell_type": "code",
   "execution_count": null,
   "metadata": {},
   "outputs": [],
   "source": [
    "1-2"
   ]
  },
  {
   "cell_type": "code",
   "execution_count": null,
   "metadata": {
    "scrolled": true
   },
   "outputs": [],
   "source": [
    "2/(5+2)"
   ]
  },
  {
   "cell_type": "markdown",
   "metadata": {},
   "source": [
    "### <font color=orange> Key Concept </font>\n",
    "Python\n",
    "    - Arithmetic expression (the order of operations - same as math convention)\n",
    "\n",
    "Jupiter Notebook\n",
    "    - Command Mode (blue) /Edit Mode (green)  \n",
    "    - In command mode, press H to show keyboard shortcuts"
   ]
  },
  {
   "cell_type": "markdown",
   "metadata": {},
   "source": [
    "### What if we wanted to  see the sum of above 3 instructions?"
   ]
  },
  {
   "cell_type": "code",
   "execution_count": null,
   "metadata": {},
   "outputs": [],
   "source": [
    "4+7\n",
    "1-2\n",
    "2/(5+2)"
   ]
  },
  {
   "cell_type": "markdown",
   "metadata": {},
   "source": [
    "#### Can we make things easier? Let's create variables"
   ]
  },
  {
   "cell_type": "code",
   "execution_count": null,
   "metadata": {},
   "outputs": [],
   "source": [
    "4+7\n",
    "1-2\n",
    "2/(5+2)"
   ]
  },
  {
   "cell_type": "code",
   "execution_count": null,
   "metadata": {
    "scrolled": false
   },
   "outputs": [],
   "source": [
    "# Example 1:\n",
    "# add a hashtag to insert a comment\n",
    "# If you have to buy 3 pens which cost 10$ each, how much will it cost in total\n",
    "result=3*10 \n",
    "# print(result) # print the result\n",
    "# result # peek the result"
   ]
  },
  {
   "cell_type": "markdown",
   "metadata": {},
   "source": [
    "### <font color=orange> Key Concept </font>\n",
    "Python\n",
    "    - Variable\n",
    "    - Assignment Statement  \n",
    "    - Comment\n",
    "Jupiter Notebook\n",
    "    - Allows peeking at the value - Out[x]\n",
    "    - Sequence of execution - In[x]"
   ]
  },
  {
   "cell_type": "code",
   "execution_count": null,
   "metadata": {},
   "outputs": [],
   "source": [
    "# Example 2: \n",
    "# How much do you have to pay if the shopkeeper gives you a 10% discount ? \n",
    "discounted_result=(3*10.0)*(100-10)\n",
    "discounted_result\n",
    "\n",
    "# Qn - Does spacing matter?"
   ]
  },
  {
   "cell_type": "markdown",
   "metadata": {},
   "source": [
    "### <font color=orange> Key Concept </font>\n",
    "Python\n",
    "    - Variable naming convention/Coding style: camelCase, snake_case. https://www.alfredforum.com/topic/4818-code-case/\n",
    "    - Spacing\n",
    "    "
   ]
  },
  {
   "cell_type": "markdown",
   "metadata": {},
   "source": [
    "#### Let's run another program to solve the below problem -   \n",
    "#### what if the price now changes to <font color=blue>12$</font> and you want to buy <font color=blue>4</font> pens and the shopkeeper wants to give you a <font color=blue>15%</font> discount ? "
   ]
  },
  {
   "cell_type": "code",
   "execution_count": null,
   "metadata": {},
   "outputs": [],
   "source": [
    "number_of_pens = 4\n",
    "cost_per_pen = 12\n",
    "discount = 15\n",
    "price_before_discount = number_of_pens * cost_per_pen\n",
    "print(price_before_discount)\n",
    "price_after_discount = price_before_discount * (100 - discount) / 100\n",
    "price_after_discount"
   ]
  },
  {
   "cell_type": "markdown",
   "metadata": {},
   "source": [
    "#### what if the price now changes to <font color=blue>13$</font> and you want to buy <font color=blue>5</font> pens and the shopkeeper wants to give you a <font color=blue>20%</font> discount ? "
   ]
  },
  {
   "cell_type": "code",
   "execution_count": null,
   "metadata": {},
   "outputs": [],
   "source": []
  },
  {
   "cell_type": "markdown",
   "metadata": {},
   "source": [
    "\n",
    "### <font color=red> Try it!  </font>\n",
    "\n",
    "\n",
    "1. We own 5 pens\n",
    "2. We initially bought those pens for `10$` per pen\n",
    "3. We now want to sell our pens for `20$` per pen\n",
    "4. Someone bought all 5 pens from us, and we gave a `3$`discount  \n",
    "\n",
    "How much did we earn?\n",
    "\n",
    "Write a short program that declares following variables and sets them each to the appropriate values from the list above:\n",
    "\n",
    "1. number_of_pens\n",
    "2. cost_price\n",
    "3. sell_price\n",
    "4. flat_discount\n",
    "\n",
    "Now calculate the profit and store it in a variable named  profit <br>\n",
    "Print out content of variable profit.\n",
    "\n",
    "\n"
   ]
  },
  {
   "cell_type": "code",
   "execution_count": null,
   "metadata": {},
   "outputs": [],
   "source": []
  },
  {
   "cell_type": "code",
   "execution_count": null,
   "metadata": {},
   "outputs": [],
   "source": [
    "assert(number_of_pens==5)\n",
    "assert(cost_price == 10)\n",
    "assert(sell_price == 20)\n",
    "assert(flat_discount == 3)\n",
    "assert(profit == 47)"
   ]
  },
  {
   "cell_type": "markdown",
   "metadata": {},
   "source": [
    "### Optional reading:\n",
    "interpreter vs compiler  \n",
    "https://www.geeksforgeeks.org/compiler-vs-interpreter-2/  \n",
    "scripting language vs compiled language  \n",
    "https://www.geeksforgeeks.org/whats-the-difference-between-scripting-and-programming-languages/?ref=lbp"
   ]
  }
 ],
 "metadata": {
  "kernelspec": {
   "display_name": "Python 3",
   "language": "python",
   "name": "python3"
  },
  "language_info": {
   "codemirror_mode": {
    "name": "ipython",
    "version": 3
   },
   "file_extension": ".py",
   "mimetype": "text/x-python",
   "name": "python",
   "nbconvert_exporter": "python",
   "pygments_lexer": "ipython3",
   "version": "3.7.6"
  }
 },
 "nbformat": 4,
 "nbformat_minor": 2
}