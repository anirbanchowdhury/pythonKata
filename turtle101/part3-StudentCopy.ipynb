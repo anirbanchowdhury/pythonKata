{
 "cells": [
  {
   "cell_type": "markdown",
   "metadata": {},
   "source": [
    "# Part 3 <= 60 min\n",
    "## Goals at end of session \n",
    "1. Able to understand concept of boolean, conditional logic and loops\n",
    "2. Able to make use of imported libraries\n",
    "\n",
    "\n",
    "## Agenda : \n",
    "1. Boolean\n",
    "2. If/else, nested if/else <br>\n",
    "3. Loop - which consumes from a list<br>\n",
    "4. Import math module and call some inbuilt functions <br> "
   ]
  },
  {
   "cell_type": "markdown",
   "metadata": {},
   "source": [
    "### Boolean\n",
    "Boolean (bool) is a data type in Python. It can be one of two values: True or False."
   ]
  },
  {
   "cell_type": "code",
   "execution_count": null,
   "metadata": {},
   "outputs": [],
   "source": [
    "10 > 9"
   ]
  },
  {
   "cell_type": "code",
   "execution_count": null,
   "metadata": {},
   "outputs": [],
   "source": [
    "# check the type of something, can be an variable or an expression\n",
    "type(10 > 9)"
   ]
  },
  {
   "cell_type": "code",
   "execution_count": null,
   "metadata": {},
   "outputs": [],
   "source": [
    "10 < 9"
   ]
  },
  {
   "cell_type": "markdown",
   "metadata": {},
   "source": [
    "### Conditions: if, else, elif statements\n",
    "The program will check the conditions in order and will execute the first one where the condition is True <br>\n",
    "Expression after if, elif, and else is called controlling expression. It will be used to determine which block of code will be executed"
   ]
  },
  {
   "cell_type": "code",
   "execution_count": null,
   "metadata": {},
   "outputs": [],
   "source": [
    "if 100 < 1000:\n",
    "    print('Yes')"
   ]
  },
  {
   "cell_type": "code",
   "execution_count": null,
   "metadata": {},
   "outputs": [],
   "source": [
    "if 100 > 1000:\n",
    "    print('100 is larger than 1000')\n",
    "else:\n",
    "    print('100 is smaller than 1000')"
   ]
  },
  {
   "cell_type": "code",
   "execution_count": null,
   "metadata": {},
   "outputs": [],
   "source": [
    "if 1000 > 1000:\n",
    "    print('1000 is larger than 1000')\n",
    "elif 1000 < 1000:  # elif sits in between if and else; we can have multiple elifs\n",
    "    print('1000 is smaller than 1000')\n",
    "else:\n",
    "    print('1000 is equal to 1000')"
   ]
  },
  {
   "cell_type": "markdown",
   "metadata": {},
   "source": [
    "### <font color=red> Try it!  </font> <br>\n",
    "\n",
    "<font color=brown>\n",
    "Fill in the function below: <br>\n",
    "Given a number, please write an if else statement to check whether a number is 0 and print the result</font>"
   ]
  },
  {
   "cell_type": "code",
   "execution_count": null,
   "metadata": {},
   "outputs": [],
   "source": [
    "def check_0(num):\n",
    "    # please fill in your answer here"
   ]
  },
  {
   "cell_type": "code",
   "execution_count": null,
   "metadata": {},
   "outputs": [],
   "source": [
    "# call the function\n",
    "check_0(7)"
   ]
  },
  {
   "cell_type": "markdown",
   "metadata": {},
   "source": [
    "### [Advanced][Optional] Nested Conditions"
   ]
  },
  {
   "cell_type": "markdown",
   "metadata": {},
   "source": [
    "In school, depending on marks a student gets in exam, he/she will receive a final grade, e.g. A, B, C.\n",
    "Let us define a function that given marks, returns the final result containing two piece of information: pass/fail and grade based on rules below:\n",
    "1. A student fails an exam if he/she does not get 60 marks. The student receives a grade of F in this case.\n",
    "2. In the case where a student passes an exam, the grade he/she gets follow: <br>\n",
    "    2.1. if marks >= 90, grade A <br>\n",
    "    2.2. if 80 <= marks < 90, grade B <br>\n",
    "    2.3 if 70 <= marks < 80, grade C <br>\n",
    "    2.4 if 60 <= marks < 70, grade D "
   ]
  },
  {
   "cell_type": "code",
   "execution_count": null,
   "metadata": {},
   "outputs": [],
   "source": [
    "def get_result_and_grade(marks):\n",
    "    result = ''\n",
    "    \n",
    "    # determine pass or fail first, as fail always comes with F but pass may have various grades\n",
    "    if marks < 60:\n",
    "        result += 'Fail, F'\n",
    "    else:\n",
    "        result += 'Pass, '\n",
    "        \n",
    "        # determine grade if pass\n",
    "        if marks < 70:\n",
    "            result += 'D'\n",
    "        elif marks < 80:\n",
    "            result += 'C'\n",
    "        elif marks < 90:\n",
    "            result += 'B'\n",
    "        else:\n",
    "            result += 'A'\n",
    "        \n",
    "    return result"
   ]
  },
  {
   "cell_type": "code",
   "execution_count": null,
   "metadata": {},
   "outputs": [],
   "source": [
    "# call the function\n",
    "get_result_and_grade(90)"
   ]
  },
  {
   "cell_type": "markdown",
   "metadata": {},
   "source": [
    "### Loops\n",
    "\n",
    "Loop is used to iterate over a sequence or perform a task for a certain number of times. In Python, it can be implemented in two ways: for loop and while loop. <br><br>\n",
    "\n",
    "Note: As you learn more data structures, you will be able to write loop with other data types, e.g. list (covered in next section)"
   ]
  },
  {
   "cell_type": "markdown",
   "metadata": {},
   "source": [
    "#### For loop with range\n",
    "\n",
    "range is a built in function in Python. It will be used when you would like to perform a task multiple times"
   ]
  },
  {
   "cell_type": "code",
   "execution_count": 1,
   "metadata": {},
   "outputs": [
    {
     "data": {
      "text/plain": [
       "range(0, 5)"
      ]
     },
     "execution_count": 1,
     "metadata": {},
     "output_type": "execute_result"
    }
   ],
   "source": [
    "range(5)  # 0 included, and 5 excluded"
   ]
  },
  {
   "cell_type": "code",
   "execution_count": 2,
   "metadata": {},
   "outputs": [
    {
     "name": "stdout",
     "output_type": "stream",
     "text": [
      "0\n",
      "1\n",
      "2\n",
      "3\n",
      "4\n"
     ]
    }
   ],
   "source": [
    "for index in range(5):\n",
    "    print(index)"
   ]
  },
  {
   "cell_type": "markdown",
   "metadata": {},
   "source": [
    "Note: index is a variable used to store the value in a certain round, you can change it with any other name"
   ]
  },
  {
   "cell_type": "markdown",
   "metadata": {},
   "source": [
    "#### While loop"
   ]
  },
  {
   "cell_type": "code",
   "execution_count": 7,
   "metadata": {},
   "outputs": [
    {
     "name": "stdout",
     "output_type": "stream",
     "text": [
      "10\n",
      "9\n",
      "stop\n"
     ]
    }
   ],
   "source": [
    "# initialize the variable\n",
    "index = 10\n",
    "stop_value = 8\n",
    "while index > 0: # if the controlling expression is true, it will execute, otherwise it will exit\n",
    "    print(index)\n",
    "    index = index - 1 # if we do not update the value properly, the while loop will never stop\n",
    "    if stop_value == index:\n",
    "        # print('stop')\n",
    "        # break # -> break can be used to break the while/jump out of the loop\n",
    "    "
   ]
  },
  {
   "source": [
    "Recall the sun pattern we drew in part 0? We were first exposed to the concepts of loops and conditionals back then:\n",
    "```\n",
    "# Loop forever\n",
    "while(True):\n",
    "        # Some actions for Alex to take\n",
    "\n",
    "        # Condition to break out of the infinite loop\n",
    "        if abs(alex.pos()) < 1:\n",
    "                break\n",
    "```\n",
    "Since `True` is... `True`, we begin our `while` loop and execute each line within the loop sequentially. Alex performs some actions we gave him, then we hit the condtional.\n",
    "\n",
    "`abs(alex.pos()) < 1` looks tricky but it's really nothing to be afraid of. `alex.pos()` simply gives us Alex's current position (x,y), while the `abs()` function simply behaves like a modulus in math. So if we call `abs()` on `alex.pos()` we get the Euclidean distance of Alex from where he started (0,0). We set a small threshold `< 1` so that Alex will quit moving about once he has returned to a position relatively close to where he began.\n",
    "\n",
    "You may be wondering - how am I supposed to know what the `pos()` or `abs()` functions do? Possibly one of the most important skills of a programmer is knowing how to read code documentation. Check out [this page](https://docs.python.org/3/library/turtle.html), for instance, to see all the things you can do with the **turtle** library."
   ],
   "cell_type": "markdown",
   "metadata": {}
  },
  {
   "cell_type": "markdown",
   "metadata": {},
   "source": [
    "### <font color=red> Try it!  </font> <br>\n",
    "<font color=brown> Print 5 to 10 in order </font>\n",
    "\n"
   ]
  },
  {
   "cell_type": "code",
   "execution_count": null,
   "metadata": {},
   "outputs": [],
   "source": [
    "# please fill in your answer here"
   ]
  },
  {
   "cell_type": "markdown",
   "metadata": {},
   "source": [
    "### Math functions\n",
    "\n",
    "Python provides a collection of functions and methods that allow users to perform some actions without needing to write their own code. These functions and methods are built in. They can come in the format of being alone (e.g. help() we learned in previous session) or libraries. <br>\n",
    "Math is a library that includes a list of functions performing various arithmetic tasks."
   ]
  },
  {
   "cell_type": "code",
   "execution_count": null,
   "metadata": {},
   "outputs": [],
   "source": [
    "# import math library\n",
    "import math"
   ]
  },
  {
   "cell_type": "code",
   "execution_count": null,
   "metadata": {},
   "outputs": [],
   "source": [
    "# get smallest integer greater than or equal to a value\n",
    "math.ceil(9.9)"
   ]
  },
  {
   "cell_type": "code",
   "execution_count": null,
   "metadata": {},
   "outputs": [],
   "source": [
    "# get largest integer less than or equal to a value\n",
    "math.floor(9.9)"
   ]
  },
  {
   "cell_type": "code",
   "execution_count": null,
   "metadata": {},
   "outputs": [],
   "source": [
    "# get x to the power of y -> math.pow(x, y)\n",
    "math.pow(2, 3)"
   ]
  },
  {
   "cell_type": "code",
   "execution_count": null,
   "metadata": {},
   "outputs": [],
   "source": [
    "math.pow(3,2)"
   ]
  },
  {
   "cell_type": "code",
   "execution_count": null,
   "metadata": {},
   "outputs": [],
   "source": [
    "# we can use ** as well to get power\n",
    "2**4"
   ]
  },
  {
   "cell_type": "code",
   "execution_count": null,
   "metadata": {},
   "outputs": [],
   "source": [
    "# get square root of x\n",
    "math.sqrt(16)"
   ]
  },
  {
   "cell_type": "markdown",
   "metadata": {},
   "source": [
    "### <font color=red> Try it!  </font> <br>\n",
    "<font color=brown> Get the square root of 64 </font>"
   ]
  },
  {
   "cell_type": "code",
   "execution_count": null,
   "metadata": {},
   "outputs": [],
   "source": [
    "# please fill in your answer here"
   ]
  },
  {
   "cell_type": "code",
   "execution_count": null,
   "metadata": {},
   "outputs": [],
   "source": []
  },
  {
   "cell_type": "markdown",
   "metadata": {},
   "source": [
    "## Materials\n",
    "1. Operators: https://www.w3schools.com/python/python_operators.asp <br>\n",
    "   Include: arithmetic operators, assignment operators, comparison operators, logical operators, etc.\n",
    "2. Conditions and loops: http://www.openbookproject.net/books/bpp4awd/ch04.html <br>\n",
    "3. Math functions documentation: https://docs.python.org/3/library/math.html"
   ]
  },
  {
   "cell_type": "markdown",
   "metadata": {},
   "source": [
    "## Exercises\n",
    ">- Please write your answer and assign it to the variable\n",
    ">- You get the question correctly if you dont see \"assertion error\""
   ]
  },
  {
   "cell_type": "markdown",
   "metadata": {},
   "source": [
    "<span style='color: brown'> Question 1: What is 3 to the power of 3? </span>"
   ]
  },
  {
   "cell_type": "code",
   "execution_count": null,
   "metadata": {},
   "outputs": [],
   "source": [
    "power = # please fill in your answer here\n",
    "assert(power == 27)"
   ]
  },
  {
   "cell_type": "markdown",
   "metadata": {},
   "source": [
    "<span style='color: brown'> Question 2: What is the square root of 64? </span>"
   ]
  },
  {
   "cell_type": "code",
   "execution_count": null,
   "metadata": {},
   "outputs": [],
   "source": [
    "sqrt = # please fill in your answer here\n",
    "assert(sqrt == 8)"
   ]
  },
  {
   "cell_type": "markdown",
   "metadata": {},
   "source": [
    "<span style='color: brown'> Question 3: Print 10 to 1 in reverse order </span>"
   ]
  },
  {
   "cell_type": "code",
   "execution_count": null,
   "metadata": {},
   "outputs": [],
   "source": [
    "# please fill in your answer here"
   ]
  },
  {
   "cell_type": "markdown",
   "metadata": {},
   "source": [
    "<span style='color: brown'> <b>[Advanced]</b>  Question 4:  </span> <br>\n",
    "<span style='color: brown'> Print the following pattern (you may ignore the space in between)</span>\n",
    "> <p style='color: brown'> 5 </p>\n",
    "> <p style='color: brown'> 5 4 </p>\n",
    "> <p style='color: brown'> 5 4 3 </p>\n",
    "> <p style='color: brown'> 5 4 3 2 </p>\n",
    "> <p style='color: brown'> 5 4 3 2 1 </p>\n",
    "> <p style='color: brown'> 5 4 3 2 1 0 </p>"
   ]
  },
  {
   "cell_type": "markdown",
   "metadata": {},
   "source": [
    "<span style='color: brown'> Hint:</span> <br>\n",
    "<span style='color: brown'>1. To print without going to a new line, you can use print(x, end='') </span> <br>\n",
    "<span style='color: brown'>2. You need nested loop for this question </span>"
   ]
  },
  {
   "cell_type": "code",
   "execution_count": null,
   "metadata": {},
   "outputs": [],
   "source": [
    "# example of printing without new line\n",
    "size = 1\n",
    "while size <= 2:\n",
    "    print(0, end = '')\n",
    "    size = size + 1"
   ]
  },
  {
   "cell_type": "code",
   "execution_count": null,
   "metadata": {},
   "outputs": [],
   "source": []
  },
  {
   "cell_type": "code",
   "execution_count": null,
   "metadata": {},
   "outputs": [],
   "source": []
  },
  {
   "cell_type": "code",
   "execution_count": null,
   "metadata": {},
   "outputs": [],
   "source": []
  }
 ],
 "metadata": {
  "kernelspec": {
   "display_name": "Python 3",
   "language": "python",
   "name": "python3"
  },
  "language_info": {
   "codemirror_mode": {
    "name": "ipython",
    "version": 3
   },
   "file_extension": ".py",
   "mimetype": "text/x-python",
   "name": "python",
   "nbconvert_exporter": "python",
   "pygments_lexer": "ipython3",
   "version": "3.7.4"
  }
 },
 "nbformat": 4,
 "nbformat_minor": 2
}