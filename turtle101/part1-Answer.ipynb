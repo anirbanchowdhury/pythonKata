{
 "cells": [
  {
   "cell_type": "markdown",
   "metadata": {},
   "source": [
    "# Part 1 - 30 min\n",
    "\n",
    "## Agenda\n",
    "- Basic Python concepts (simple statements and variables)\n",
    "- Basic Python exercise at the end\n",
    "\n",
    "You can also proceed at your own (faster) pace if you like and proceed to day 2 material. \n",
    "If you have any questions on more advanced sections, please wait till we catchup to the respective section. :)\n",
    "\n",
    "Back to the basics, now. Let's use Python to do some math for us!"
   ]
  },
  {
   "cell_type": "code",
   "execution_count": 1,
   "metadata": {
    "scrolled": true
   },
   "outputs": [
    {
     "data": {
      "text/plain": [
       "11"
      ]
     },
     "execution_count": 1,
     "metadata": {},
     "output_type": "execute_result"
    }
   ],
   "source": [
    "4+7"
   ]
  },
  {
   "cell_type": "code",
   "execution_count": 2,
   "metadata": {},
   "outputs": [
    {
     "data": {
      "text/plain": [
       "-1"
      ]
     },
     "execution_count": 2,
     "metadata": {},
     "output_type": "execute_result"
    }
   ],
   "source": [
    "1-2"
   ]
  },
  {
   "cell_type": "code",
   "execution_count": 3,
   "metadata": {
    "scrolled": true
   },
   "outputs": [
    {
     "data": {
      "text/plain": [
       "0.2857142857142857"
      ]
     },
     "execution_count": 3,
     "metadata": {},
     "output_type": "execute_result"
    }
   ],
   "source": [
    "2/(5+2)"
   ]
  },
  {
   "cell_type": "markdown",
   "metadata": {},
   "source": [
    "### <font color=orange> Key Concept </font>\n",
    "Python\n",
    "    - Arithmetic expression (the order of operations - same as math convention)\n",
    "\n",
    "Jupiter Notebook\n",
    "    - Command Mode (blue) /Edit Mode (green)  \n",
    "    - In command mode, press H to show keyboard shortcuts"
   ]
  },
  {
   "cell_type": "markdown",
   "metadata": {},
   "source": [
    "### What if we wanted to  see the sum of above 3 instructions?"
   ]
  },
  {
   "cell_type": "code",
   "execution_count": 4,
   "metadata": {},
   "outputs": [
    {
     "data": {
      "text/plain": [
       "10.285714285714286"
      ]
     },
     "execution_count": 4,
     "metadata": {},
     "output_type": "execute_result"
    }
   ],
   "source": [
    "4+7 + 1-2 + 2/(5+2)"
   ]
  },
  {
   "cell_type": "markdown",
   "metadata": {},
   "source": [
    "#### Can we make things easier? Let's create variables"
   ]
  },
  {
   "cell_type": "code",
   "execution_count": 5,
   "metadata": {
    "scrolled": true
   },
   "outputs": [
    {
     "data": {
      "text/plain": [
       "10.285714285714286"
      ]
     },
     "execution_count": 5,
     "metadata": {},
     "output_type": "execute_result"
    }
   ],
   "source": [
    "a = 4+7\n",
    "b = 1-2\n",
    "c = 2/(5+2)\n",
    "a + b + c"
   ]
  },
  {
   "cell_type": "code",
   "execution_count": 6,
   "metadata": {
    "scrolled": false
   },
   "outputs": [
    {
     "name": "stdout",
     "output_type": "stream",
     "text": [
      "30\n"
     ]
    },
    {
     "data": {
      "text/plain": [
       "30"
      ]
     },
     "execution_count": 6,
     "metadata": {},
     "output_type": "execute_result"
    }
   ],
   "source": [
    "# Example 1:\n",
    "# add a hashtag to insert a comment\n",
    "# If you have to buy 3 pens which cost 10$ each, how much will it cost in total\n",
    "result=3*10 # this is a comment\n",
    "print(result) # print the result\n",
    "result # peek the result"
   ]
  },
  {
   "cell_type": "markdown",
   "metadata": {},
   "source": [
    "### <font color=orange> Key Concept </font>\n",
    "Python\n",
    "    - Variable\n",
    "    - Assignment Statement  \n",
    "    - Comment\n",
    "Jupiter Notebook\n",
    "    - Allows peeking at the value - Out[x]\n",
    "    - Sequence of execution - In[x]"
   ]
  },
  {
   "cell_type": "code",
   "execution_count": 7,
   "metadata": {},
   "outputs": [
    {
     "data": {
      "text/plain": [
       "27.0"
      ]
     },
     "execution_count": 7,
     "metadata": {},
     "output_type": "execute_result"
    }
   ],
   "source": [
    "# Example 2: \n",
    "# How much do you have to pay if the shopkeeper gives you a 10% discount ? \n",
    "# discounted_result=(3*10.0)*(100-10)/100\n",
    "\n",
    "result=3*10\n",
    "discount = (100-10) / 100\n",
    "discounted_result = result * discount\n",
    "discounted_result\n",
    "# Qn - Does spacing matter?\n",
    "# Ans - No it doesn't.   discounted_result = result * discount\n",
    "# is same as             discounted_result = result*discount"
   ]
  },
  {
   "cell_type": "markdown",
   "metadata": {},
   "source": [
    "### <font color=orange> Key Concept </font>\n",
    "Python\n",
    "    - Variable naming convention/Coding style: camelCase, snake_case. https://www.alfredforum.com/topic/4818-code-case/\n",
    "    - Spacing\n",
    "    "
   ]
  },
  {
   "cell_type": "markdown",
   "metadata": {},
   "source": [
    "#### Let's run another program to solve the below problem -   \n",
    "#### what if the price now changes to <font color=blue>12$</font> and you want to buy <font color=blue>4</font> pens and the shopkeeper wants to give you a <font color=blue>15%</font> discount ? "
   ]
  },
  {
   "cell_type": "code",
   "execution_count": 8,
   "metadata": {
    "scrolled": true
   },
   "outputs": [
    {
     "name": "stdout",
     "output_type": "stream",
     "text": [
      "48\n"
     ]
    },
    {
     "data": {
      "text/plain": [
       "40.8"
      ]
     },
     "execution_count": 8,
     "metadata": {},
     "output_type": "execute_result"
    }
   ],
   "source": [
    "number_of_pens = 4\n",
    "cost_per_pen = 12\n",
    "discount = 15\n",
    "price_before_discount = number_of_pens * cost_per_pen\n",
    "print(price_before_discount)\n",
    "price_after_discount = price_before_discount * (100 - discount) / 100\n",
    "price_after_discount"
   ]
  },
  {
   "cell_type": "markdown",
   "metadata": {},
   "source": [
    "#### what if the price now changes to <font color=blue>13$</font> and you want to buy <font color=blue>5</font> pens and the shopkeeper wants to give you a <font color=blue>20%</font> discount ? "
   ]
  },
  {
   "cell_type": "code",
   "execution_count": 9,
   "metadata": {},
   "outputs": [
    {
     "name": "stdout",
     "output_type": "stream",
     "text": [
      "65\n"
     ]
    },
    {
     "data": {
      "text/plain": [
       "52.0"
      ]
     },
     "execution_count": 9,
     "metadata": {},
     "output_type": "execute_result"
    }
   ],
   "source": [
    "number_of_pens = 5\n",
    "cost_per_pen = 13\n",
    "discount = 20\n",
    "price_before_discount = number_of_pens * cost_per_pen\n",
    "print(price_before_discount)\n",
    "price_after_discount = price_before_discount * (100 - discount) / 100\n",
    "price_after_discount"
   ]
  },
  {
   "cell_type": "markdown",
   "metadata": {},
   "source": [
    "\n",
    "### <font color=red> Try it!  </font>\n",
    "\n",
    "\n",
    "1. We own 5 pens\n",
    "2. We initially bought those pens for `10$` per pen\n",
    "3. We now want to sell our pens for `20$` per pen\n",
    "4. Someone bought all 5 pens from us, and we gave a `3$`discount  // Note - please change this to 3\n",
    "\n",
    "How much did we earn?\n",
    "\n",
    "Write a short program that declares following variables and sets them each to the appropriate values from the list above:\n",
    "\n",
    "1. number_of_pens\n",
    "2. cost_price\n",
    "3. sell_price\n",
    "4. flat_discount\n",
    "\n",
    "Now calculate the profit and store it in a variable named  profit <br>\n",
    "Print out content of variable profit.\n",
    "\n",
    "\n"
   ]
  },
  {
   "cell_type": "code",
   "execution_count": 11,
   "metadata": {},
   "outputs": [
    {
     "name": "stdout",
     "output_type": "stream",
     "text": [
      "5\n",
      "10\n",
      "20\n",
      "3\n",
      "47\n"
     ]
    }
   ],
   "source": [
    "number_of_pens = 5\n",
    "cost_price = 10\n",
    "sell_price = 20\n",
    "flat_discount = 3\n",
    "profit = number_of_pens * (sell_price - cost_price) - flat_discount\n",
    "\n",
    "# the below print statements are optional\n",
    "print(number_of_pens)\n",
    "print(cost_price)\n",
    "print(sell_price)\n",
    "print(flat_discount)\n",
    "print(profit)"
   ]
  },
  {
   "cell_type": "code",
   "execution_count": 12,
   "metadata": {
    "scrolled": false
   },
   "outputs": [],
   "source": [
    "assert(number_of_pens == 5)\n",
    "assert(cost_price == 10)\n",
    "assert(sell_price == 20)\n",
    "assert(flat_discount == 3)\n",
    "assert(profit == 47)"
   ]
  },
  {
   "cell_type": "markdown",
   "metadata": {},
   "source": [
    "### Optional reading:\n",
    "interpreter vs compiler  \n",
    "https://www.geeksforgeeks.org/compiler-vs-interpreter-2/  \n",
    "scripting language vs compiled language  \n",
    "https://www.geeksforgeeks.org/whats-the-difference-between-scripting-and-programming-languages/?ref=lbp"
   ]
  }
 ],
 "metadata": {
  "kernelspec": {
   "display_name": "Python 3",
   "language": "python",
   "name": "python3"
  },
  "language_info": {
   "codemirror_mode": {
    "name": "ipython",
    "version": 3
   },
   "file_extension": ".py",
   "mimetype": "text/x-python",
   "name": "python",
   "nbconvert_exporter": "python",
   "pygments_lexer": "ipython3",
   "version": "3.7.6"
  }
 },
 "nbformat": 4,
 "nbformat_minor": 2
}