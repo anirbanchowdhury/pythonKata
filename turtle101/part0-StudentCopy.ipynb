{
 "cells": [
  {
   "cell_type": "markdown",
   "metadata": {},
   "source": [
    "# Part 0 - 20 min\n",
    "## Agenda\n",
    "- Basic concepts on programming language and Python\n",
    "- Familiarise with Jupyter notebook\n",
    "- Turtle programming\n",
    "\n",
    "You can also proceed at your own (faster) pace if you like and proceed to day 2 material. If you have any questions on more advanced sections, please wait till we catchup to the respective section. :)\n",
    "\n",
    "## Pre-requisite\n",
    "Follow AnacondaSetup.docx to setup Anaconda prior to this session.\n",
    "\n",
    "## Basic Concepts\n",
    "### Computer Programs\n",
    "- a set of instructions that tells a computer what to do or how to perform a task\n",
    "- e.g. Outlook - the set of instructions might be: Open that email.\n",
    "- It's like a TODO list, if you can understand a TODO list, you can understand a program.\n",
    "\n",
    "### Programming\n",
    "Programming is the art and science of creating computer programs by typing out the list of instructions that we want the computer to execute in order to accomplish our objective.\n",
    "\n",
    "### Programming Language\n",
    "Just like any other human language, a programming language has alphabet, symbols and rules/grammar. Instead of communicating to a human being, we will use it to communicate with the compute to execute what we want and how we want it. An example of a programming language is **Python**, which we will use in this workshop.\n",
    "\n",
    "### Translators - Compilers and Interpreters\n",
    "Computers only understand binary (0 and 1), but we will write in English-like language. A translator sits in between and translates our English-like language (Python) into computer lingo. For the case of Python, it's called an **interpreter**.\n",
    "\n",
    "OK, enough theory - let's get started!\n",
    "\n",
    "## Drawing with Turtle\n",
    "Click on the grey box below, you should see a cursor blink.\n",
    "Press `Ctrl+Enter` and see what happens."
   ]
  },
  {
   "cell_type": "code",
   "execution_count": null,
   "metadata": {},
   "outputs": [],
   "source": [
    "import turtle\n",
    "\n",
    "alex = turtle.Turtle()\n",
    "\n",
    "redColor = 'red'\n",
    "yellowColor = 'yellow'\n",
    "\n",
    "noOfSetpsForward = 200\n",
    "noOfStepsLeft = 170\n",
    "\n",
    "alex.color(redColor, yellowColor)\n",
    "alex.begin_fill()\n",
    "while True:\n",
    "    alex.forward(noOfSetpsForward)\n",
    "    alex.left(noOfStepsLeft)\n",
    "    if abs(alex.pos()) < 1:\n",
    "        break\n",
    "alex.end_fill()\n",
    "#done()"
   ]
  },
  {
   "cell_type": "markdown",
   "metadata": {},
   "source": [
    "You should see a window pop-up and a geometric pattern forming gradually. All of this was executed just with the code in the cell above!\n",
    "\n",
    "The code probably means nothing to you right now, but don't be intimidated. We're going to go line by line and break down what just happened.\n",
    "\n",
    "### Importing a module\n",
    "First, we **imported** the `turtle` library. **Turtle** is a **library** that features something like a drawing board, which lets you command a turtle to draw all over it. Libraries are code written by people that we can `import` and use, instead of writing all of it ourselves!"
   ]
  },
  {
   "cell_type": "code",
   "execution_count": 1,
   "metadata": {},
   "outputs": [],
   "source": [
    "import turtle"
   ]
  },
  {
   "cell_type": "markdown",
   "metadata": {},
   "source": [
    "Then, we created a turtle which we stored in a variable `alex`. So we have \"alex\" the turtle. \n",
    "Afterwards we create `redColor` and `yellowColor` variables to indicate what colors alex should use to draw and `noOfSetpsForward` and `noOfStepsLeft` variables to store the number of setps we want alex to move.\n",
    "We will learn more about **variables** later on."
   ]
  },
  {
   "cell_type": "code",
   "execution_count": null,
   "metadata": {},
   "outputs": [],
   "source": [
    "alex = turtle.Turtle()\n",
    "\n",
    "redColor = 'red'\n",
    "yellowColor = 'yellow'\n",
    "\n",
    "noOfSetpsForward = 200\n",
    "noOfStepsLeft = 170"
   ]
  },
  {
   "cell_type": "markdown",
   "metadata": {},
   "source": [
    "Notice that to colour the shape we simply stated that `color('red', 'yellow'). The shape drawn is essentially the route which we told Alex to go."
   ]
  },
  {
   "cell_type": "code",
   "execution_count": null,
   "metadata": {},
   "outputs": [],
   "source": [
    "# Tell Alex to move forward 200 steps\n",
    "forward(200)\n",
    "# Then, turn left 170 degrees.\n",
    "left(170)"
   ]
  },
  {
   "cell_type": "markdown",
   "metadata": {},
   "source": [
    "The above commands draw a single long ellipsis. Now we want to keep repeating the action. One can write the same command over and over again many atimes. Luckily programming languages has something called `loops` which repeats the same commands as many times as we want. Which is why used `while(True)`. As the word suggests, those actions will be executed forever. To break out of the loop, we use a conditional. These will be covered more in part 3.\n",
    "```\n",
    "if abs(alex.pos()) < 1:\n",
    "        break\n",
    "```"
   ]
  },
  {
   "cell_type": "markdown",
   "metadata": {},
   "source": [
    "(Do we want to go into specifics here?)\n",
    "Below is some other stuff I tried to explain for loops with (can ignore)"
   ]
  },
  {
   "cell_type": "code",
   "execution_count": null,
   "metadata": {},
   "outputs": [],
   "source": [
    "You can move your turtle around with different methods like `left()`, `right()`, `forward()`, and `backward()`. You can also change characteristics of the turtle, such as its `size`, `color`, and `speed`. Try making your own square!"
   ]
  },
  {
   "cell_type": "code",
   "execution_count": null,
   "metadata": {},
   "outputs": [],
   "source": [
    "# Make alex draw a square!"
   ]
  }
 ],
 "metadata": {
  "kernelspec": {
   "display_name": "Python 3",
   "language": "python",
   "name": "python3"
  },
  "language_info": {
   "codemirror_mode": {
    "name": "ipython",
    "version": 3
   },
   "file_extension": ".py",
   "mimetype": "text/x-python",
   "name": "python",
   "nbconvert_exporter": "python",
   "pygments_lexer": "ipython3",
   "version": "3.8.5"
  }
 },
 "nbformat": 4,
 "nbformat_minor": 2
}
