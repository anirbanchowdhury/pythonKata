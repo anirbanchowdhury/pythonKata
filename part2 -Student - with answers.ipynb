{
 "cells": [
  {
   "cell_type": "markdown",
   "metadata": {},
   "source": [
    "# Part 2 <= 60 min\n",
    "\n",
    "\n",
    "## Agenda : \n",
    "1. Run inbuilt functions \n",
    "2. Understand grammar of a function \n",
    "3. Learn about string\n",
    "4. Write your own function "
   ]
  },
  {
   "cell_type": "markdown",
   "metadata": {},
   "source": [
    "## Recap\n",
    "\n",
    "### in-built function and grammar"
   ]
  },
  {
   "cell_type": "code",
   "execution_count": null,
   "metadata": {},
   "outputs": [],
   "source": [
    "min(2.7, 1.2)"
   ]
  },
  {
   "cell_type": "markdown",
   "metadata": {},
   "source": [
    "### String"
   ]
  },
  {
   "cell_type": "code",
   "execution_count": null,
   "metadata": {},
   "outputs": [],
   "source": [
    "\"this is a python string\"\n",
    "'this is another python string'"
   ]
  },
  {
   "cell_type": "code",
   "execution_count": null,
   "metadata": {},
   "outputs": [],
   "source": [
    "my_string = 'this is my string'"
   ]
  },
  {
   "cell_type": "code",
   "execution_count": null,
   "metadata": {},
   "outputs": [],
   "source": [
    "my_string"
   ]
  },
  {
   "cell_type": "markdown",
   "metadata": {},
   "source": [
    "### User defined function"
   ]
  },
  {
   "cell_type": "code",
   "execution_count": 1,
   "metadata": {},
   "outputs": [
    {
     "name": "stdout",
     "output_type": "stream",
     "text": [
      "I\n",
      "Love\n",
      "Python\n",
      "I\n",
      "Love\n",
      "Programming\n"
     ]
    }
   ],
   "source": [
    "print('I')\n",
    "print('Love')\n",
    "print('Python')\n",
    "print('I')\n",
    "print('Love')\n",
    "print('Programming')"
   ]
  },
  {
   "cell_type": "code",
   "execution_count": 12,
   "metadata": {},
   "outputs": [],
   "source": [
    "def my_print_function(a = 'Python'):\n",
    "    print('I')\n",
    "    print('Love')\n",
    "    print(a)\n",
    "    return 'Yes'"
   ]
  },
  {
   "cell_type": "code",
   "execution_count": 14,
   "metadata": {
    "scrolled": true
   },
   "outputs": [
    {
     "name": "stdout",
     "output_type": "stream",
     "text": [
      "I\n",
      "Love\n",
      "Singapore\n"
     ]
    }
   ],
   "source": [
    "returned_string = my_print_function('Singapore')\n"
   ]
  },
  {
   "cell_type": "code",
   "execution_count": 10,
   "metadata": {},
   "outputs": [
    {
     "data": {
      "text/plain": [
       "'Yes'"
      ]
     },
     "execution_count": 10,
     "metadata": {},
     "output_type": "execute_result"
    }
   ],
   "source": [
    "returned_string"
   ]
  },
  {
   "cell_type": "markdown",
   "metadata": {},
   "source": [
    "\n",
    "# Functions \n",
    "\n",
    "So far we have sent the Python interpreter two types of statements:\n",
    "\n",
    "1. Arithmetic Expressions\n",
    "2. Variable Assignments\n",
    "\n",
    "These are useful, but not enough to build more complex programs. \n",
    "We will now need to use functions - special pieces of code designed to perform particular tasks. What exactly is a function? The best way to understand this core concept is to consider the following analogy:\n",
    "\n",
    "Suppose you have a pet dog at your home. Your dog is well-trained and has learned to respond to several simple commands:\n",
    "\n",
    "\"Sit!\"\n",
    "\"Down!\"\n",
    "\"Stay!\"\n",
    "\n",
    "There is a procedure associated with each of these commands, meaning that when your dog hears the command, it does something in response. The python interpreter is just like your well-trained dog - it knows a small set of commands, and when you type the name of a given command, it will execute the procedure corresponding to that name. Each of these commands that the Python interpreter knows is a function.\n"
   ]
  },
  {
   "cell_type": "markdown",
   "metadata": {},
   "source": [
    "###  Run inbuilt functions"
   ]
  },
  {
   "cell_type": "code",
   "execution_count": null,
   "metadata": {},
   "outputs": [],
   "source": [
    "help()"
   ]
  },
  {
   "cell_type": "markdown",
   "metadata": {},
   "source": [
    "<font color=red> Warning  </font> Before continuing, click in the input box next to the word help> that appeared in the output cell above, then type quit and hit Enter. Otherwise you will not be able to continue this lesson."
   ]
  },
  {
   "cell_type": "code",
   "execution_count": null,
   "metadata": {},
   "outputs": [],
   "source": [
    "min(1.1,-2.1,3.4)"
   ]
  },
  {
   "cell_type": "markdown",
   "metadata": {},
   "source": [
    "The function name: min has the following grammar :  <br>\n",
    "An open parenthesis ( <br>\n",
    "Multiple function arguments, separated by commas <br>\n",
    "A closing parenthesis )"
   ]
  },
  {
   "cell_type": "markdown",
   "metadata": {},
   "source": [
    "### <font color=red> Try it!  </font>\n",
    "\n",
    "Use the max function to find the max of 3 decimal numbers of 1.2,2.3,3.4\n",
    "Use the round function to round this to an integer \n",
    "\n",
    "    "
   ]
  },
  {
   "cell_type": "code",
   "execution_count": null,
   "metadata": {},
   "outputs": [],
   "source": [
    "max_number = max(1.2, 2.3, 3.4)\n",
    "round_number = round(max_number)\n",
    "print(round_number)"
   ]
  },
  {
   "cell_type": "markdown",
   "metadata": {},
   "source": [
    "### Strings \n",
    "\n",
    "Before we deepdive into functions, we have to explore another concept <br>\n",
    "We have focussed so far on numbers and arithmetic.\n",
    "The python interpreter can also understand and manipulate strings of characters, such as \"singapore\" or \"cutedog123\". <br>\n",
    "What  is a string? \n",
    "Any text that we type inside of quotation marks - either single quotes (') or double quotes (\") - is considered by Python to be string. For example, \"SINGAPORE IS SAFE\" is a string:"
   ]
  },
  {
   "cell_type": "code",
   "execution_count": null,
   "metadata": {},
   "outputs": [],
   "source": [
    "\"SINGAPORE IS SAFE\""
   ]
  },
  {
   "cell_type": "markdown",
   "metadata": {},
   "source": [
    "Remember that variables are boxes into which we store values. Variables can hold any type of value - we have previously only used them to store numbers, but they can just as easily store strings. For example, to assign the string `\"Python Workshop Day1\"` to the variable `my_string`, use the following code:\n",
    "\n"
   ]
  },
  {
   "cell_type": "code",
   "execution_count": null,
   "metadata": {},
   "outputs": [],
   "source": [
    "my_string = \"Python Workshop Day1\""
   ]
  },
  {
   "cell_type": "markdown",
   "metadata": {},
   "source": [
    "We can see that the assignment stored the string value inside the variable by running the cell below:\n",
    "\n"
   ]
  },
  {
   "cell_type": "code",
   "execution_count": null,
   "metadata": {},
   "outputs": [],
   "source": [
    "my_string"
   ]
  },
  {
   "cell_type": "markdown",
   "metadata": {},
   "source": [
    "### Creating Your Own Functions\n",
    "\n",
    "We have seen how we can call different functions provided by the Python interpreter to accomplish certain tasks. These functions let us do some useful things, but sometimes they are not enough. Fortunately, just like your dog, Python can learn new tricks. We can teach Python new tricks by defining our own functions. For example, before looking at the code we need to write to define our own functions, let's take the time to understand the purpose of such code by considering an example application.\n",
    "\n"
   ]
  },
  {
   "cell_type": "code",
   "execution_count": null,
   "metadata": {},
   "outputs": [],
   "source": [
    "def multiply (a,b):\n",
    "    product=a*b\n",
    "    print(product)"
   ]
  },
  {
   "cell_type": "code",
   "execution_count": null,
   "metadata": {},
   "outputs": [],
   "source": [
    "product=1*5\n",
    "print(product)\n",
    "product=2*5\n",
    "print(product)"
   ]
  },
  {
   "cell_type": "markdown",
   "metadata": {},
   "source": [
    "### What happened there ? We defined a custom function and then called it. "
   ]
  },
  {
   "cell_type": "markdown",
   "metadata": {},
   "source": [
    "### How to define a return statement\n",
    "Practice how to use the return keyword, so that you can do something with the result. If needed, you can use the result of the function again."
   ]
  },
  {
   "cell_type": "code",
   "execution_count": null,
   "metadata": {},
   "outputs": [],
   "source": [
    "def multiply (a, b):\n",
    "    return a*b"
   ]
  },
  {
   "cell_type": "code",
   "execution_count": null,
   "metadata": {},
   "outputs": [],
   "source": [
    "x = multiply(5,1)\n",
    "y = multiply(4,1)\n",
    "total = multiply(x,y)\n"
   ]
  },
  {
   "cell_type": "code",
   "execution_count": null,
   "metadata": {
    "scrolled": true
   },
   "outputs": [],
   "source": [
    "print(total)"
   ]
  },
  {
   "cell_type": "code",
   "execution_count": null,
   "metadata": {},
   "outputs": [],
   "source": [
    "def function_name(a, b, c):\n",
    "    # code block, anything you want this function to do you can put here\n",
    "    print(a)\n",
    "    \n",
    "    return b"
   ]
  },
  {
   "cell_type": "markdown",
   "metadata": {},
   "source": [
    "### More Practice questions"
   ]
  },
  {
   "cell_type": "markdown",
   "metadata": {},
   "source": [
    "### <font color=red> Try it!  </font>\n",
    "\n",
    "We try the same program as tried earlier on part1 and name it as calculate pen_sale_profit. <br>\n",
    "We own few pens which we initially bought for a particular cost price per pen.<br>\n",
    "We now want to sell our pens at a particular sell price per pen. <br>\n",
    "We must give a flat discount of 20% to every customer.<br>\n",
    "Write a short function calcuate_pen_sale_profit  that calculates profit and takes the following parameters : <br>\n",
    "number_of_pens<br>\n",
    "cost_price<br>\n",
    "sell_price<br>\n",
    "\n",
    "Now calculate the profit and return it. "
   ]
  },
  {
   "cell_type": "code",
   "execution_count": null,
   "metadata": {},
   "outputs": [],
   "source": [
    "def calcuate_pen_sale_profit(number_of_pens, cost_price, sell_price):\n",
    "    cost = number_of_pens * cost_price\n",
    "    sales = number_of_pens * sell_price * 0.8\n",
    "    return sales - cost"
   ]
  },
  {
   "cell_type": "code",
   "execution_count": null,
   "metadata": {},
   "outputs": [],
   "source": [
    "assert calcuate_pen_sale_profit(6, 10, 15) == 12.0\n",
    "assert calcuate_pen_sale_profit(8, 3, 5) == 8.0"
   ]
  },
  {
   "cell_type": "markdown",
   "metadata": {},
   "source": [
    "### [Advanced]  Extra material :  How to define a variable-length argument\n",
    "In some cases, you might not know how many parameters users will pass. In those cases, what will you do?"
   ]
  },
  {
   "cell_type": "code",
   "execution_count": null,
   "metadata": {},
   "outputs": [],
   "source": [
    "def add_everything(*args):\n",
    "    return sum(args)"
   ]
  },
  {
   "cell_type": "code",
   "execution_count": null,
   "metadata": {},
   "outputs": [],
   "source": [
    "print(add_everything(1,4,5, 75, 112))"
   ]
  },
  {
   "cell_type": "markdown",
   "metadata": {},
   "source": [
    "###  How to define a default parameter\n",
    "Learn how can you avoid passing specific parameters. If one or more parameters are not passed, you can have a default value. \n",
    "Default values indicate that the function argument will take that value if no argument value is passed during function call. \n",
    "The default value is assigned by using assignment(=) operator of the form keywordname=value.\n"
   ]
  },
  {
   "cell_type": "code",
   "execution_count": null,
   "metadata": {},
   "outputs": [],
   "source": [
    "def add (a, b = 5):\n",
    "    return a + b"
   ]
  },
  {
   "cell_type": "code",
   "execution_count": null,
   "metadata": {},
   "outputs": [],
   "source": [
    "x = add(2,3)\n",
    "print(x)"
   ]
  },
  {
   "cell_type": "code",
   "execution_count": null,
   "metadata": {},
   "outputs": [],
   "source": [
    "y = add(7)\n",
    "print(y)"
   ]
  },
  {
   "cell_type": "code",
   "execution_count": null,
   "metadata": {},
   "outputs": [],
   "source": [
    "total = add(x,y)\n",
    "print(total)"
   ]
  },
  {
   "cell_type": "markdown",
   "metadata": {},
   "source": [
    "Let’s understand this through a function student. The function student contains 3-arguments out of which 2 arguments are assigned with default values. So, function student accepts one required argument (firstname) and rest two arguments (last name and standard) are optional. \n",
    "\n",
    "### <font color=red> Try it!  </font>\n",
    "Write the function in a way that the output is consistent with the below values."
   ]
  },
  {
   "cell_type": "code",
   "execution_count": null,
   "metadata": {},
   "outputs": [],
   "source": [
    " def student(firstname, lastname='Mark', standard='Fifth'):\n",
    "        print(firstname, lastname, \"studies in\", standard, \"Standard\")"
   ]
  },
  {
   "cell_type": "markdown",
   "metadata": {},
   "source": [
    "Expected output:\n",
    "    #1 John Mark studies in Fifth Standard\n",
    "    #2 John Gates studies in Seventh Standard\n",
    "    #3 = John Gates studies in Fifth Standard\n",
    "    #4 = John Seventh studies in Fifth Standard\n",
    "What should the function call look like?"
   ]
  },
  {
   "cell_type": "markdown",
   "metadata": {},
   "source": [
    "    #1 student('John') \n",
    "    #2 student('John', 'Gates', 'Seventh')      \n",
    "    #3 student('John', 'Gates')                   \n",
    "    #4 student('John', 'Seventh')"
   ]
  },
  {
   "cell_type": "code",
   "execution_count": null,
   "metadata": {},
   "outputs": [],
   "source": [
    "student('John') "
   ]
  },
  {
   "cell_type": "code",
   "execution_count": null,
   "metadata": {},
   "outputs": [],
   "source": []
  }
 ],
 "metadata": {
  "kernelspec": {
   "display_name": "Python 3",
   "language": "python",
   "name": "python3"
  },
  "language_info": {
   "codemirror_mode": {
    "name": "ipython",
    "version": 3
   },
   "file_extension": ".py",
   "mimetype": "text/x-python",
   "name": "python",
   "nbconvert_exporter": "python",
   "pygments_lexer": "ipython3",
   "version": "3.7.6"
  }
 },
 "nbformat": 4,
 "nbformat_minor": 4
}
