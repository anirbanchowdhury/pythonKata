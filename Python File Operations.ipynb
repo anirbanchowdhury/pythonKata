{
 "cells": [
  {
   "cell_type": "markdown",
   "metadata": {},
   "source": [
    "# Python File Operations : 15 mins\n",
    "\n",
    "## Goal at the end of this tutorial\n",
    "\n",
    "Everyone should be able to perform basic file operations in Python.\n",
    "\n",
    "## 4 file operations in Python:\n",
    "1. Open a file\n",
    "2. Read a file\n",
    "3. Write to a file\n",
    "4. Close a file\n",
    "***"
   ]
  },
  {
   "cell_type": "markdown",
   "metadata": {},
   "source": [
    "## Opening Files in Python\n",
    "Python has a built-in `open()` function to open a file. This function returns a file object we can work on.   \n",
    "We can specify which mode we want while opening a file.\n",
    "\n",
    "| Mode        | Description           |\n",
    "| ------------- |:-------------:|\n",
    "| r     | Opening a file for reading |\n",
    "| w     | Opening a file for writing. The file will be created if it doesn't exist yet. |\n",
    "| a     | Opening a file for appending |\n",
    "\n",
    "If we don't specify the mode, the default will be opening the file for reading."
   ]
  },
  {
   "cell_type": "code",
   "execution_count": null,
   "metadata": {},
   "outputs": [],
   "source": [
    "## Opening file for read\n",
    "f = open(\"test.txt\")    # open file in current directory using relative path\n",
    "f = open(\"C:/Users/Elsie/Desktop/test.txt\")  # specifying full path"
   ]
  },
  {
   "cell_type": "code",
   "execution_count": null,
   "metadata": {},
   "outputs": [],
   "source": [
    "f = open(\"test.txt\", mode='r', encoding='utf-8') ## Opening file for read with encoding\n",
    "f = open(\"test.txt\", mode='w', encoding='utf-8') ## Opening file for read with encoding\n",
    "f = open(\"test.txt\", mode='r+', encoding='utf-8') ## Opening file for read and write with encoding"
   ]
  },
  {
   "cell_type": "markdown",
   "metadata": {},
   "source": [
    "***\n",
    "## Closing Files in Python\n",
    "After we have done with our files, we need to close them.  \n",
    "\n",
    "We should always close our files after file operations to free up the resources."
   ]
  },
  {
   "cell_type": "code",
   "execution_count": null,
   "metadata": {},
   "outputs": [],
   "source": [
    "## closing the file\n",
    "f.close()"
   ]
  },
  {
   "cell_type": "code",
   "execution_count": null,
   "metadata": {},
   "outputs": [],
   "source": [
    "## We can also open a file using the with statement \n",
    "## Python will guarantee that the file is closed in this way.\n",
    "\n",
    "## Below code will throw an error, do you spot why?\n",
    "with open(\"test.txt\") as f:\n",
    "    f.write(\"Hello World\\n\")"
   ]
  },
  {
   "cell_type": "code",
   "execution_count": null,
   "metadata": {},
   "outputs": [],
   "source": [
    "## OPTIONAL\n",
    "## put in try finally block, so we can always close the file even through something is wrong during file operations.\n",
    "try:\n",
    "   f = open(\"test.txt\")\n",
    "   # perform file operations\n",
    "finally:\n",
    "   f.close()"
   ]
  },
  {
   "cell_type": "markdown",
   "metadata": {},
   "source": [
    "***\n",
    "## Writing to Files in Python\n",
    "To write to a file, we need to open it in either write mode (w) or append mode(a)."
   ]
  },
  {
   "cell_type": "code",
   "execution_count": null,
   "metadata": {},
   "outputs": [],
   "source": [
    "with open(\"test.txt\",'w',encoding = 'utf-8') as f:\n",
    "   f.write(\"Hello World\\n\") #write the string to file\n",
    "   f.write(\"I am learning Python\\n\")"
   ]
  },
  {
   "cell_type": "markdown",
   "metadata": {},
   "source": [
    "***\n",
    "## Reading Files in Python\n",
    "To read a file, we need to open it in read mode (r)."
   ]
  },
  {
   "cell_type": "code",
   "execution_count": null,
   "metadata": {},
   "outputs": [],
   "source": [
    "f = open(\"test.txt\",'r',encoding = 'utf-8')"
   ]
  },
  {
   "cell_type": "code",
   "execution_count": null,
   "metadata": {},
   "outputs": [],
   "source": [
    "f.read(9)    # read the first 9 data"
   ]
  },
  {
   "cell_type": "code",
   "execution_count": null,
   "metadata": {},
   "outputs": [],
   "source": [
    "f.read(4)    # read the next 4 data"
   ]
  },
  {
   "cell_type": "code",
   "execution_count": null,
   "metadata": {},
   "outputs": [],
   "source": [
    "f.read()     # read everything till the end of file"
   ]
  },
  {
   "cell_type": "code",
   "execution_count": null,
   "metadata": {},
   "outputs": [],
   "source": [
    "## we can also read file line by line\n",
    "with open(\"test.txt\",'r',encoding = 'utf-8') as f:\n",
    "    for line in f:\n",
    "        print(line)"
   ]
  },
  {
   "cell_type": "code",
   "execution_count": null,
   "metadata": {},
   "outputs": [],
   "source": [
    "with open(\"test.txt\",'r',encoding = 'utf-8') as f:\n",
    "    print(f.readline())"
   ]
  },
  {
   "cell_type": "markdown",
   "metadata": {},
   "source": [
    "***\n",
    "## Exercise"
   ]
  },
  {
   "cell_type": "code",
   "execution_count": null,
   "metadata": {},
   "outputs": [],
   "source": [
    "# Please execute below code:\n",
    "import random\n",
    "\n",
    "rand = [random.randint(0, 100) for x in range(1, 11)]\n",
    "with open(\"exercise.txt\",'w',encoding = 'utf-8') as f:\n",
    "   for x in rand:\n",
    "     f.write(str(x))\n",
    "     f.write(\"\\n\")"
   ]
  },
  {
   "cell_type": "markdown",
   "metadata": {},
   "source": [
    "1. Write a Python program to read the exercise.txt file line by line.\n",
    "2. Find the largest number in exercise.txt"
   ]
  },
  {
   "cell_type": "code",
   "execution_count": null,
   "metadata": {},
   "outputs": [],
   "source": []
  }
 ],
 "metadata": {
  "kernelspec": {
   "display_name": "Python 3",
   "language": "python",
   "name": "python3"
  },
  "language_info": {
   "codemirror_mode": {
    "name": "ipython",
    "version": 3
   },
   "file_extension": ".py",
   "mimetype": "text/x-python",
   "name": "python",
   "nbconvert_exporter": "python",
   "pygments_lexer": "ipython3",
   "version": "3.7.6"
  }
 },
 "nbformat": 4,
 "nbformat_minor": 4
}
