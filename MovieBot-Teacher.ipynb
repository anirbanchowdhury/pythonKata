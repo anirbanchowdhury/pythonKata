{
  "nbformat": 4,
  "nbformat_minor": 0,
  "metadata": {
    "colab": {
      "provenance": [],
      "authorship_tag": "ABX9TyN7rE7pt9MC73cqBJv1MWCD",
      "include_colab_link": true
    },
    "kernelspec": {
      "name": "python3",
      "display_name": "Python 3"
    },
    "language_info": {
      "name": "python"
    }
  },
  "cells": [
    {
      "cell_type": "markdown",
      "metadata": {
        "id": "view-in-github",
        "colab_type": "text"
      },
      "source": [
        "<a href=\"https://colab.research.google.com/github/anirbanchowdhury/pythonKata/blob/master/MovieBot-Teacher.ipynb\" target=\"_parent\"><img src=\"https://colab.research.google.com/assets/colab-badge.svg\" alt=\"Open In Colab\"/></a>"
      ]
    },
    {
      "cell_type": "code",
      "source": [
        "!pip install python-telegram-bot==13.7"
      ],
      "metadata": {
        "colab": {
          "base_uri": "https://localhost:8080/",
          "height": 530
        },
        "id": "v-xqNUJ4rJzs",
        "outputId": "43114113-08de-4cbf-e5ff-74651de7e1b3"
      },
      "execution_count": 9,
      "outputs": [
        {
          "output_type": "stream",
          "name": "stdout",
          "text": [
            "Collecting python-telegram-bot==13.7\n",
            "  Downloading python_telegram_bot-13.7-py3-none-any.whl (490 kB)\n",
            "\u001b[2K     \u001b[90m━━━━━━━━━━━━━━━━━━━━━━━━━━━━━━━━━━━━━━━━\u001b[0m \u001b[32m490.1/490.1 kB\u001b[0m \u001b[31m3.4 MB/s\u001b[0m eta \u001b[36m0:00:00\u001b[0m\n",
            "\u001b[?25hRequirement already satisfied: certifi in /usr/local/lib/python3.10/dist-packages (from python-telegram-bot==13.7) (2024.2.2)\n",
            "Requirement already satisfied: tornado>=6.1 in /usr/local/lib/python3.10/dist-packages (from python-telegram-bot==13.7) (6.3.3)\n",
            "Collecting APScheduler==3.6.3 (from python-telegram-bot==13.7)\n",
            "  Downloading APScheduler-3.6.3-py2.py3-none-any.whl (58 kB)\n",
            "\u001b[2K     \u001b[90m━━━━━━━━━━━━━━━━━━━━━━━━━━━━━━━━━━━━━━━━\u001b[0m \u001b[32m58.9/58.9 kB\u001b[0m \u001b[31m6.0 MB/s\u001b[0m eta \u001b[36m0:00:00\u001b[0m\n",
            "\u001b[?25hRequirement already satisfied: pytz>=2018.6 in /usr/local/lib/python3.10/dist-packages (from python-telegram-bot==13.7) (2023.4)\n",
            "Collecting cachetools==4.2.2 (from python-telegram-bot==13.7)\n",
            "  Downloading cachetools-4.2.2-py3-none-any.whl (11 kB)\n",
            "Requirement already satisfied: setuptools>=0.7 in /usr/local/lib/python3.10/dist-packages (from APScheduler==3.6.3->python-telegram-bot==13.7) (67.7.2)\n",
            "Requirement already satisfied: six>=1.4.0 in /usr/local/lib/python3.10/dist-packages (from APScheduler==3.6.3->python-telegram-bot==13.7) (1.16.0)\n",
            "Requirement already satisfied: tzlocal>=1.2 in /usr/local/lib/python3.10/dist-packages (from APScheduler==3.6.3->python-telegram-bot==13.7) (5.2)\n",
            "Installing collected packages: cachetools, APScheduler, python-telegram-bot\n",
            "  Attempting uninstall: cachetools\n",
            "    Found existing installation: cachetools 5.3.3\n",
            "    Uninstalling cachetools-5.3.3:\n",
            "      Successfully uninstalled cachetools-5.3.3\n",
            "  Attempting uninstall: python-telegram-bot\n",
            "    Found existing installation: python-telegram-bot 21.2\n",
            "    Uninstalling python-telegram-bot-21.2:\n",
            "      Successfully uninstalled python-telegram-bot-21.2\n",
            "Successfully installed APScheduler-3.6.3 cachetools-4.2.2 python-telegram-bot-13.7\n"
          ]
        },
        {
          "output_type": "display_data",
          "data": {
            "application/vnd.colab-display-data+json": {
              "pip_warning": {
                "packages": [
                  "cachetools",
                  "telegram"
                ]
              },
              "id": "0e1299d642fd4173b98e5bbd97bcac83"
            }
          },
          "metadata": {}
        }
      ]
    },
    {
      "cell_type": "code",
      "execution_count": null,
      "metadata": {
        "colab": {
          "base_uri": "https://localhost:8080/"
        },
        "id": "l4biOKQiqecl",
        "outputId": "727110e3-5290-4a25-8976-c5db5ce1ab9b"
      },
      "outputs": [
        {
          "output_type": "stream",
          "name": "stdout",
          "text": [
            "====== starting bot program ======\n",
            "\n",
            "====== entered movie_handler ======\n",
            "====== movie_handler update.message.text: /movie inside man\n",
            "====== movie_name: inside man\n",
            "====== constructed_url: http://www.omdbapi.com/?apikey=3c5f42ed&t=inside man\n",
            "====== contents: {'Title': 'Inside Man', 'Year': '2006', 'Rated': 'R', 'Released': '24 Mar 2006', 'Runtime': '129 min', 'Genre': 'Crime, Drama, Mystery', 'Director': 'Spike Lee', 'Writer': 'Russell Gewirtz', 'Actors': 'Denzel Washington, Clive Owen, Jodie Foster', 'Plot': \"A police detective, a bank robber, and a high-power broker enter high-stakes negotiations after the criminal's brilliant heist spirals into a hostage situation.\", 'Language': 'English, Albanian, Spanish, Polish', 'Country': 'United States', 'Awards': '5 wins & 12 nominations', 'Poster': 'https://m.media-amazon.com/images/M/MV5BYjc4MjA2ZDgtOGY3YS00NDYzLTlmNTEtYWMxMzcwZjgzYWNjXkEyXkFqcGdeQXVyMTQxNzMzNDI@._V1_SX300.jpg', 'Ratings': [{'Source': 'Internet Movie Database', 'Value': '7.6/10'}, {'Source': 'Rotten Tomatoes', 'Value': '86%'}, {'Source': 'Metacritic', 'Value': '76/100'}], 'Metascore': '76', 'imdbRating': '7.6', 'imdbVotes': '396,576', 'imdbID': 'tt0454848', 'Type': 'movie', 'DVD': '03 Apr 2016', 'BoxOffice': '$88,513,495', 'Production': 'N/A', 'Website': 'N/A', 'Response': 'True'}\n",
            "====== response: True\n"
          ]
        }
      ],
      "source": [
        "from telegram.ext import Updater, CommandHandler, MessageHandler, Filters\n",
        "import requests\n",
        "\n",
        "# Paste your own token in the variable below\n",
        "TOKEN = \"6548212109:\"\n",
        "\n",
        "\n",
        "def dog_picture_handler(update, context):\n",
        "    print(\"\\n====== entered dog_picture_handler ======\")\n",
        "    chat_id = update.message.chat_id\n",
        "\n",
        "    # enter the url below in browser to take a look\n",
        "    # this url is a API that returns you a randowm dog picture\n",
        "    contents = requests.get(\"https://random.dog/woof.json\").json()\n",
        "    print(\"====== contents: \" + str(contents))\n",
        "    dog_picture_url = contents[\"url\"]\n",
        "    print(\"====== dog_picture_url: \" + dog_picture_url)\n",
        "\n",
        "    # send the image url link back to user\n",
        "    context.bot.send_message(chat_id=chat_id, text=dog_picture_url)\n",
        "    # send as a photo instead\n",
        "    # context.bot.send_photo(chat_id=chat_id, photo=dog_picture_url)\n",
        "\n",
        "def movie_handler(update, context):\n",
        "    print(\"\\n====== entered movie_handler ======\")\n",
        "    chat_id = update.message.chat_id\n",
        "\n",
        "    print(\"====== movie_handler update.message.text: \" + update.message.text)\n",
        "    # TODO No.1:\n",
        "    # get the movie name entered by the user from the variable update.message.text\n",
        "    # and store it in the variable movie_name\n",
        "    movie_name = update.message.text[7:].strip()\n",
        "    print(\"====== movie_name: \" + movie_name)\n",
        "\n",
        "    # TODO No.2:\n",
        "    # Given a API, use the API to retrieve information related to movie name\n",
        "    # http://www.omdbapi.com/?apikey=3c5f42ed&t=<movie_name>\n",
        "    # Example: http://www.omdbapi.com/?apikey=3c5f42ed&t=minions\n",
        "    constructed_url = \"http://www.omdbapi.com/?apikey=3c5f42ed&t=\" + movie_name\n",
        "    print(\"====== constructed_url: \" + constructed_url)\n",
        "    contents = requests.get(constructed_url).json()\n",
        "    print(\"====== contents: \" + str(contents))\n",
        "\n",
        "    # TODO No.3:\n",
        "    # Retrieve the field Response from the contents\n",
        "    response = contents[\"Response\"]\n",
        "    print(\"====== response: \" + response)\n",
        "\n",
        "    # TODO No.4:\n",
        "    # Given successul query will have the response as True, unsuccessul query will have response as False\n",
        "    # write a if else condition\n",
        "    # for failed query: send back a message to notify user that there is no information found\n",
        "    # for success query: send back the Title and Year\n",
        "    if response == \"False\":\n",
        "        context.bot.send_message(chat_id=chat_id,text= \"No movie available for this title: \" + movie_name)\n",
        "    else:\n",
        "        title = contents[\"Title\"]\n",
        "        year = contents[\"Year\"]\n",
        "        context.bot.send_message(chat_id=chat_id,text=\"Title: \" + title + \". Year: \" + year)\n",
        "\n",
        "        # TODO No.5:\n",
        "        # add on to the response True branch that we have written\n",
        "        # return the Poster field as photo to the user\n",
        "        if contents[\"Poster\"]!=\"N/A\":\n",
        "            context.bot.send_photo(chat_id=chat_id, photo=contents[\"Poster\"])\n",
        "        else:\n",
        "            context.bot.send_message(chat_id=chat_id,text=\"No poster available for this one\")\n",
        "\n",
        "        # TODO No.6:\n",
        "        # Open ended question. Return whichever field in whichever format you want.\n",
        "        # teachers can go through the example below\n",
        "        for key, value in contents.items():\n",
        "            if(key not in [\"Response\", \"Poster\"]):\n",
        "                constructed_text = key + \": \" + str(value)\n",
        "                context.bot.send_message(chat_id=chat_id,text=constructed_text)\n",
        "\n",
        "def fallback_handler(update, context):\n",
        "    context.bot.send_message(chat_id=update.effective_chat.id, text=\"Sorry, I didn't understand that command. Please try with: \")\n",
        "    context.bot.send_message(chat_id=update.effective_chat.id, text=\"/movie <movie_name>\")\n",
        "\n",
        "\n",
        "def main():\n",
        "    print(\"====== starting bot program ======\")\n",
        "\n",
        "    updater = Updater(TOKEN, use_context=True)\n",
        "    dispatcher = updater.dispatcher\n",
        "\n",
        "\n",
        "\n",
        "    # example dog_picture_handler to be demonstrated by teacher\n",
        "    dispatcher.add_handler(CommandHandler(\"dog\", dog_picture_handler))\n",
        "\n",
        "    # movie_handler to be filled in by student\n",
        "    dispatcher.add_handler(CommandHandler(\"movie\", movie_handler))\n",
        "\n",
        "    # Optional content - fallback handler\n",
        "    dispatcher.add_handler(MessageHandler(Filters.all, fallback_handler))\n",
        "\n",
        "    updater.start_polling()\n",
        "    updater.idle()\n",
        "\n",
        "\n",
        "if __name__ == \"__main__\":\n",
        "    main()\n",
        "\n"
      ]
    }
  ]
}
