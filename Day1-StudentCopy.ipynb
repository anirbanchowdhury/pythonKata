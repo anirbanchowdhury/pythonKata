{
 "cells": [
  {
   "cell_type": "markdown",
   "metadata": {},
   "source": [
    "# Day 1 : 60 min\n",
    "\n",
    "## Goals at end of session \n",
    "Everyone can run a sample Jupyter notebook and has learnt very basic Python(simple instructions/statements and variables)\n",
    "\n",
    "## Agenda : \n",
    "We will go over basic programming concepts and usage of Python. \n",
    "The student will complete an exercise at the end using the skills learned on the session. \n",
    "You can also proceed at your own (faster) pace if you like and proceed to day 2 material. \n",
    "If you have any questions on more advanced sections, please wait till we catchup to the respective section. :) \n",
    "\n",
    "\n",
    "## Pre-requisite : \n",
    "Follow Day -1 Anaconda Setup.docx to setup Anaconda prior to this session\n",
    "\n"
   ]
  },
  {
   "cell_type": "markdown",
   "metadata": {},
   "source": [
    "\n",
    "### <font color=red> Try it!  </font>\n",
    "    \n",
    "Click on the grey box below, you should see a cursor blink\n",
    "Click shift + enter and see what happens"
   ]
  },
  {
   "cell_type": "code",
   "execution_count": null,
   "metadata": {},
   "outputs": [],
   "source": [
    "21"
   ]
  },
  {
   "cell_type": "markdown",
   "metadata": {},
   "source": [
    "## Some definitions \n",
    "\n",
    "### Computer Programs\n",
    "\n",
    "Computer programs or software is a set of instructions that tells a computer what to do or how to perform a task. Eg. of a software program is Outlook and the set of instructions might be open that email. Another example is Excel or Word etc. \n",
    "Its like a TODO list, if you can understand a TODO list, you can understand a program\n",
    "\n",
    "### Programming\n",
    "Programming is the art and science of creating computer programs by typing out the list of instructions that we want the computer to execute in order to accomplish our objective. This might appear challenging at first, but you will find that it becomes easier with practice. \n",
    "\n",
    "\n",
    "### Programming Language\n",
    "Just like any other human language, a programming language has alphabet, symbols and rules/grammar. Instead of communicating to a human being, we will use it to communicate with the computer to execute what we want and how we want it. An eg. of a programming language is Python which we will use in this workshop. \n",
    "\n",
    "OK enough theory, lets get started ! "
   ]
  },
  {
   "cell_type": "code",
   "execution_count": null,
   "metadata": {},
   "outputs": [],
   "source": [
    "4+7"
   ]
  },
  {
   "cell_type": "code",
   "execution_count": null,
   "metadata": {},
   "outputs": [],
   "source": [
    "1-2"
   ]
  },
  {
   "cell_type": "code",
   "execution_count": null,
   "metadata": {},
   "outputs": [],
   "source": [
    "2/(5+2)"
   ]
  },
  {
   "cell_type": "markdown",
   "metadata": {},
   "source": [
    "### What just happened there ? \n",
    "We wrote a very simple computer program which sent different arithmetic instructions to the computer.  "
   ]
  },
  {
   "cell_type": "markdown",
   "metadata": {},
   "source": [
    "### What if we wanted to  see the sum of above 3 instructions ? Enter variables. \n",
    "We could write a convoluted program like (4+7) + (1-2) + (2/(5+2)) . \n",
    "That would have worked but is difficult to read and understand. \n",
    "You might say its not very different from a calculator. \n",
    "While that's true from the very simple examples we have seen so far, we want to ultimately write more complicated multiple statement instructions. \n",
    "Another mental model to think about variables is to compare it again to the piece of paper which holds our TODO lists. \n",
    "All of us organize our TODO lists somewhere - physically on a piece of paper or digitally. \n",
    "Variables are those containers/boxes which hold instructions. \n",
    "\n",
    "Let's explore this concept of variables ! "
   ]
  },
  {
   "cell_type": "markdown",
   "metadata": {},
   "source": [
    "#### How do we create variables \n",
    "The following statement puts the information 3 * 10 inside a container named result (make sure you run the cell with Shift-Enter):"
   ]
  },
  {
   "cell_type": "code",
   "execution_count": null,
   "metadata": {},
   "outputs": [],
   "source": [
    "# if you have to buy 3 pens which cost 10$ each, how much will it cost in total \n",
    "result=3*10"
   ]
  },
  {
   "cell_type": "markdown",
   "metadata": {},
   "source": [
    "Statements like the one above are called assignment statements. \n",
    "Now we have learned two types of Python statements - arithmetic expressions and assignment statments.\n",
    "\n",
    "Let's break down this assignment statement in order to fully understand each part:\n",
    "\n",
    "We declare a variable name: result. This is the label for our box, so that we can find it easily.\n",
    "We write the assignment operator: =\n",
    "We write the variable value: 3 * 10\n",
    "\n",
    "We can peek at the value inside the box by typing the name of our variable:"
   ]
  },
  {
   "cell_type": "code",
   "execution_count": null,
   "metadata": {},
   "outputs": [],
   "source": [
    "result"
   ]
  },
  {
   "cell_type": "code",
   "execution_count": null,
   "metadata": {},
   "outputs": [],
   "source": [
    "# Another example : How much do you have to pay if the shopkeeper gives you a 10% discount ? \n",
    "discounted_result=(3*10)*(100-10)/100"
   ]
  },
  {
   "cell_type": "code",
   "execution_count": null,
   "metadata": {},
   "outputs": [],
   "source": [
    "#Let's run another program to solve the below problem - \n",
    "# what if the price now changes to 11$ and you want to buy 4 pens and the shopkeeper wants to give you a 15% discount ? \n",
    "\n",
    "number_of_pens = 4\n",
    "cost_per_pen = 11\n",
    "discount = 15\n",
    "price_before_discount = number_of_pens*cost_per_pen\n",
    "print(price_before_discount)\n",
    "price_after_discount = price_before_discount * (100-discount)/100\n",
    "price_after_discount"
   ]
  },
  {
   "cell_type": "markdown",
   "metadata": {},
   "source": [
    "\n",
    "### <font color=red> Try it!  </font>\n",
    "\n",
    "\n",
    "1. We own 5 pens like above\n",
    "2. We initially bought those pens for `10$` per pen.\n",
    "3. We now want to sell our pens for `20$` per pen \n",
    "4. We must give a `3$` flat discount.\n",
    "\n",
    "Write a short program that declares following variables and sets them each to the appropriate values from the list above:\n",
    "\n",
    "1. number_of_pens\n",
    "2. cost_price\n",
    "3. sell_price\n",
    "4. flat_discount\n",
    "\n",
    "Now calculate the profit and store it in a variable named  profit <br>\n",
    "Print out content of variable profit.\n",
    "\n",
    "\n"
   ]
  },
  {
   "cell_type": "code",
   "execution_count": null,
   "metadata": {},
   "outputs": [],
   "source": [
    ""
   ]
  },
  {
   "cell_type": "code",
   "execution_count": null,
   "metadata": {},
   "outputs": [],
   "source": [
    "assert(number_of_pens==5)\n",
    "assert(cost_price == 10)\n",
    "assert(sell_price == 20)\n",
    "assert(flat_discount == 3)\n",
    "assert(profit == 47)"
   ]
  },
  {
   "cell_type": "markdown",
   "metadata": {},
   "source": [
    "### Python is an interpreted language\n",
    "\n",
    "Python is an **interpreted language**. The programmer writes instructions or statements in the Python language and sends them to the **python interpreter**. The python interpreter executes these statements and returns the results to the programmer. \n",
    "\n"
   ]
  },
  {
   "cell_type": "code",
   "execution_count": null,
   "metadata": {},
   "outputs": [],
   "source": [
    "### End of day 1 : learnt fundamentals about programming language Python , use of variables, interpreted language"
   ]
  }
 ],
 "metadata": {
  "kernelspec": {
   "display_name": "Python 3",
   "language": "python",
   "name": "python3"
  },
  "language_info": {
   "codemirror_mode": {
    "name": "ipython",
    "version": 3
   },
   "file_extension": ".py",
   "mimetype": "text/x-python",
   "name": "python",
   "nbconvert_exporter": "python",
   "pygments_lexer": "ipython3",
   "version": "3.7.6"
  }
 },
 "nbformat": 4,
 "nbformat_minor": 2
}
