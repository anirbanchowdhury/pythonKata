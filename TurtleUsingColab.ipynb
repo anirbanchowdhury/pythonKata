{
  "nbformat": 4,
  "nbformat_minor": 0,
  "metadata": {
    "colab": {
      "name": "Untitled0.ipynb",
      "provenance": [],
      "authorship_tag": "ABX9TyPluXW9bsTWp0JjVo/CXL8D",
      "include_colab_link": true
    },
    "kernelspec": {
      "name": "python3",
      "display_name": "Python 3"
    }
  },
  "cells": [
    {
      "cell_type": "markdown",
      "metadata": {
        "id": "view-in-github",
        "colab_type": "text"
      },
      "source": [
        "<a href=\"https://colab.research.google.com/github/anirbanchowdhury/pythonKata/blob/master/TurtleUsingColab.ipynb\" target=\"_parent\"><img src=\"https://colab.research.google.com/assets/colab-badge.svg\" alt=\"Open In Colab\"/></a>"
      ]
    },
    {
      "cell_type": "code",
      "metadata": {
        "id": "yYnXEjYHXn1b"
      },
      "source": [
        "!pip3 install ColabTurtle\n",
        "import ColabTurtle.Turtle as alex\n",
        "\n",
        "alex.initializeTurtle(initial_speed=5) \n",
        "\n",
        "redColor = 'red'\n",
        "yellowColor = 'yellow'\n",
        "\n",
        "noOfSetpsForward = 100\n",
        "noOfStepsRight = 144\n",
        "\n",
        "alex.color(redColor)\n",
        "\n",
        "for i in range(5):\n",
        " \n",
        "        # moving turtle 100 units forward\n",
        "        alex.forward(noOfSetpsForward)\n",
        "        if i%2 == 0 : \n",
        "          alex.color(yellowColor)\n",
        "        else :\n",
        "          alex.color(redColor)\n",
        "        \n",
        "        # rotating turtle 144 degree right\n",
        "        alex.right(noOfStepsRight)\n",
        "\n",
        "\n"
      ],
      "execution_count": null,
      "outputs": []
    },
    {
      "cell_type": "code",
      "metadata": {
        "id": "kKglw0TWbnqh"
      },
      "source": [
        "from random import randint\n",
        "colors = ['red','green','blue','yellow','orange']\n",
        "\n",
        "#print(colors[random(len(colors)]))\n",
        "alex.initializeTurtle(initial_speed=5) \n",
        "for i in range(4) : \n",
        "  alex.color(colors[randint(0, len(colors )-1)])\n",
        "  alex.left(90)\n",
        "  alex.forward(90)\n",
        "  \n",
        "#alex.forward(90)"
      ],
      "execution_count": null,
      "outputs": []
    }
  ]
}