{
  "nbformat": 4,
  "nbformat_minor": 0,
  "metadata": {
    "colab": {
      "name": "Untitled0.ipynb",
      "provenance": [],
      "authorship_tag": "ABX9TyPluXW9bsTWp0JjVo/CXL8D",
      "include_colab_link": true
    },
    "kernelspec": {
      "name": "python3",
      "display_name": "Python 3"
    }
  },
  "cells": [
    {
      "cell_type": "markdown",
      "metadata": {
        "id": "view-in-github",
        "colab_type": "text"
      },
      "source": [
        "<a href=\"https://colab.research.google.com/github/anirbanchowdhury/pythonKata/blob/master/TurtleUsingColab.ipynb\" target=\"_parent\"><img src=\"https://colab.research.google.com/assets/colab-badge.svg\" alt=\"Open In Colab\"/></a>"
      ]
    },
    {
      "cell_type": "code",
      "metadata": {
        "colab": {
          "base_uri": "https://localhost:8080/",
          "height": 538
        },
        "id": "yYnXEjYHXn1b",
        "outputId": "fa82cd7e-f00f-434d-adc9-9899c0000315"
      },
      "source": [
        "!pip3 install ColabTurtle\n",
        "import ColabTurtle.Turtle as alex\n",
        "\n",
        "alex.initializeTurtle(initial_speed=5) \n",
        "\n",
        "redColor = 'red'\n",
        "yellowColor = 'yellow'\n",
        "\n",
        "noOfSetpsForward = 100\n",
        "noOfStepsRight = 144\n",
        "\n",
        "alex.color(redColor)\n",
        "\n",
        "for i in range(5):\n",
        " \n",
        "        # moving turtle 100 units forward\n",
        "        alex.forward(noOfSetpsForward)\n",
        "        if i%2 == 0 : \n",
        "          alex.color(yellowColor)\n",
        "        else :\n",
        "          alex.color(redColor)\n",
        "        \n",
        "        # rotating turtle 144 degree right\n",
        "        alex.right(noOfStepsRight)\n",
        "\n",
        "\n"
      ],
      "execution_count": 43,
      "outputs": [
        {
          "output_type": "stream",
          "text": [
            "Requirement already satisfied: ColabTurtle in /usr/local/lib/python3.6/dist-packages (2.0.0)\n"
          ],
          "name": "stdout"
        },
        {
          "output_type": "display_data",
          "data": {
            "text/html": [
              "\n",
              "      <svg width=\"800\" height=\"500\">\n",
              "        <rect width=\"100%\" height=\"100%\" fill=\"black\"/>\n",
              "        <line x1=\"400\" y1=\"250\" x2=\"400.0\" y2=\"150.0\" stroke-linecap=\"round\" style=\"stroke:red;stroke-width:4\"/><line x1=\"400.0\" y1=\"150.0\" x2=\"458.7785252292473\" y2=\"230.90169943749476\" stroke-linecap=\"round\" style=\"stroke:yellow;stroke-width:4\"/><line x1=\"458.7785252292473\" y1=\"230.90169943749476\" x2=\"363.67287359973193\" y2=\"200.00000000000003\" stroke-linecap=\"round\" style=\"stroke:red;stroke-width:4\"/><line x1=\"363.67287359973193\" y1=\"200.00000000000003\" x2=\"458.7785252292473\" y2=\"169.09830056250527\" stroke-linecap=\"round\" style=\"stroke:yellow;stroke-width:4\"/><line x1=\"458.7785252292473\" y1=\"169.09830056250527\" x2=\"400.0\" y2=\"250.0\" stroke-linecap=\"round\" style=\"stroke:red;stroke-width:4\"/>\n",
              "        \n",
              "      <g visibility=visible transform=\"rotate(180,400.0,250.0) translate(400.0, 250.0)\">\n",
              "        <circle stroke=\"yellow\" stroke-width=\"3\" fill=\"transparent\" r=\"12\" cx=\"0\" cy=\"0\"/>\n",
              "        <polygon points=\"0,19 3,16 -3,16\" style=\"fill:yellow;stroke:yellow;stroke-width:2\"/>\n",
              "      </g>\n",
              "    \n",
              "      </svg>\n",
              "    "
            ],
            "text/plain": [
              "<IPython.core.display.HTML object>"
            ]
          },
          "metadata": {
            "tags": []
          }
        }
      ]
    },
    {
      "cell_type": "code",
      "metadata": {
        "colab": {
          "base_uri": "https://localhost:8080/",
          "height": 521
        },
        "id": "kKglw0TWbnqh",
        "outputId": "0ae8bdcd-cee1-4e75-b070-aeb3ea75bf83"
      },
      "source": [
        "from random import randint\n",
        "colors = ['red','green','blue','yellow','orange']\n",
        "\n",
        "#print(colors[random(len(colors)]))\n",
        "alex.initializeTurtle(initial_speed=5) \n",
        "for i in range(4) : \n",
        "  alex.color(colors[randint(0, len(colors )-1)])\n",
        "  alex.left(90)\n",
        "  alex.forward(90)\n",
        "  \n",
        "#alex.forward(90)"
      ],
      "execution_count": 58,
      "outputs": [
        {
          "output_type": "display_data",
          "data": {
            "text/html": [
              "\n",
              "      <svg width=\"800\" height=\"500\">\n",
              "        <rect width=\"100%\" height=\"100%\" fill=\"black\"/>\n",
              "        <line x1=\"400\" y1=\"250\" x2=\"310.0\" y2=\"250.0\" stroke-linecap=\"round\" style=\"stroke:green;stroke-width:4\"/><line x1=\"310.0\" y1=\"250.0\" x2=\"310.0\" y2=\"340.0\" stroke-linecap=\"round\" style=\"stroke:blue;stroke-width:4\"/><line x1=\"310.0\" y1=\"340.0\" x2=\"400.0\" y2=\"340.0\" stroke-linecap=\"round\" style=\"stroke:yellow;stroke-width:4\"/><line x1=\"400.0\" y1=\"340.0\" x2=\"400.0\" y2=\"250.0\" stroke-linecap=\"round\" style=\"stroke:red;stroke-width:4\"/>\n",
              "        \n",
              "      <g visibility=visible transform=\"rotate(180,400.0,250.0) translate(400.0, 250.0)\">\n",
              "        <circle stroke=\"red\" stroke-width=\"3\" fill=\"transparent\" r=\"12\" cx=\"0\" cy=\"0\"/>\n",
              "        <polygon points=\"0,19 3,16 -3,16\" style=\"fill:red;stroke:red;stroke-width:2\"/>\n",
              "      </g>\n",
              "    \n",
              "      </svg>\n",
              "    "
            ],
            "text/plain": [
              "<IPython.core.display.HTML object>"
            ]
          },
          "metadata": {
            "tags": []
          }
        }
      ]
    }
  ]
}