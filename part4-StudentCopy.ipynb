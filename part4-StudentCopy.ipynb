{
 "cells": [
  {
   "cell_type": "markdown",
   "metadata": {},
   "source": [
    "# Day 4 : 60 min\n",
    "## Goals at end of session \n",
    "\n",
    "1. Able to understand the concepts of Lists\n",
    "2. Able to manipulate and operate on strings\n",
    "\n",
    "\n",
    "\n",
    "## Agenda : \n",
    "1. List and its functions\n",
    "2. String functions"
   ]
  },
  {
   "cell_type": "markdown",
   "metadata": {},
   "source": [
    "## Defining And Accessing Lists:"
   ]
  },
  {
   "cell_type": "markdown",
   "metadata": {},
   "source": [
    "Lists are a type of data structure in Python. They are used to store a collection of items. \n",
    "\n",
    "There are multiple ways to form a list in Python. \n",
    "\n",
    "Let's start with the simple one. "
   ]
  },
  {
   "cell_type": "code",
   "execution_count": 20,
   "metadata": {},
   "outputs": [],
   "source": [
    "#blank list\n",
    "l1 = []\n",
    "\n",
    "#list of integers\n",
    "l2 = [0,20,30]\n",
    "\n",
    "#list of heterogeneous data types\n",
    "l3 = [1, \"Hello\", 3.4]\n",
    "\n",
    "#print a list\n",
    "print(l2)\n",
    "\n",
    "#print a particular element of a list\n",
    "print(l2[2])"
   ]
  },
  {
   "cell_type": "markdown",
   "metadata": {},
   "source": [
    "### [Advanced][Optional] \n",
    "The other way to define lists would be to use the List constructor"
   ]
  },
  {
   "cell_type": "code",
   "execution_count": 15,
   "metadata": {},
   "outputs": [],
   "source": [
    "l1 = list([1,2])\n",
    "\n",
    "l2 = list([1, 2, [1.1, 2.2]])"
   ]
  },
  {
   "cell_type": "markdown",
   "metadata": {},
   "source": [
    "## Different functions of Lists\n",
    "\n",
    "There are multiple functions that can be done on a list. Here are a few examples of built-in functions that can be used. You can find the entire list of functions here :- https://www.programiz.com/python-programming/methods/list"
   ]
  },
  {
   "cell_type": "code",
   "execution_count": 21,
   "metadata": {
    "scrolled": false
   },
   "outputs": [],
   "source": [
    "#Define a list \n",
    "l1 = [\"a\", \"b\", \"c\", \"z\", \"e\", \"f\", \"g\", \"h\"]\n",
    "\n",
    "# find the length of a list\n",
    "print(len(l1))\n",
    "\n",
    "# find the minimum element of a list\n",
    "print(min(l1))\n",
    "\n",
    "# find the maximum element of a list\n",
    "print(max(l1))\n",
    "\n",
    "# sort the elements in a list\n",
    "l1.sort()\n",
    "print(l1)\n",
    "\n",
    "# add a new element to a list\n",
    "l1.insert(3,\"d\")\n",
    "print(l1)\n",
    "\n",
    "# remove an element from the list\n",
    "l1.remove(\"z\")\n",
    "print(l1)"
   ]
  },
  {
   "cell_type": "markdown",
   "metadata": {},
   "source": [
    "### <font color=red> Try it!  </font> <br>\n",
    "\n",
    "Write a program to take in a list, sort it and then print even elements.\n",
    "\n",
    "[Optional] If you are done with the above, you can try printing the average of the numbers in the list. "
   ]
  },
  {
   "cell_type": "markdown",
   "metadata": {},
   "source": [
    "## String Functions:\n",
    "\n",
    "There are a lot of different functions that can be done with Strings in Python. We will cover the basic functions. \n",
    "You can find the full list of functions here :- https://www.w3schools.com/python/python_ref_string.asp"
   ]
  },
  {
   "cell_type": "code",
   "execution_count": 22,
   "metadata": {},
   "outputs": [],
   "source": [
    "# define string\n",
    "s1 = \"Python is is awesome.\"\n",
    "\n",
    "#Returns the number of times a specified value occurs in a string\n",
    "print(s1.count(\"is\"))\n",
    "\n",
    "#check if all strings are numeric\n",
    "print(s1.isnumeric())\n",
    "\n",
    "#find position of a string\n",
    "print(s1.index(\"is\"))\n",
    "\n",
    "#returns string in upper case\n",
    "print(s1.upper())\n",
    "\n",
    "#split a string into a list\n",
    "l = s1.split(\" \")\n",
    "print(l)\n",
    "\n",
    "#join two strings \n",
    "s2 = \"I love programming. \" + s1\n",
    "print(s2)\n",
    "\n",
    "#checks if the string starts with a specific value\n",
    "print(s1.startswith(\" .P\"))\n",
    "\n",
    "#replace a particular part of the string with another string\n",
    "s2= s1.replace(\"is\",\"IS\")\n",
    "print(s2)"
   ]
  },
  {
   "cell_type": "code",
   "execution_count": 26,
   "metadata": {},
   "outputs": [],
   "source": [
    "# define string\n",
    "s1 = \"Python is is awesome.\"\n",
    "\n",
    "#print a part of the string\n",
    "print(s1[1:])\n",
    "print(s1[:10])\n",
    "print(s1[1:10])\n",
    "\n",
    "# slice(start(optional), stop, step(optional))\n",
    "x = slice(0, 7, 2)\n",
    "print(s1[x])\n",
    "\n",
    "x = slice(3, 5)\n",
    "print(s1[x])"
   ]
  },
  {
   "cell_type": "markdown",
   "metadata": {},
   "source": [
    "### <font color=red> Try it!  </font> <br>\n",
    "Write a program to cound the frequency of each vowel in a String."
   ]
  },
  {
   "cell_type": "markdown",
   "metadata": {},
   "source": [
    "### <font color=red> Try it!  </font> <br>\n",
    "Take the below list of strings. Go through the list and only print the first letter of each string. "
   ]
  },
  {
   "cell_type": "code",
   "execution_count": 19,
   "metadata": {},
   "outputs": [],
   "source": [
    "listofCountries = [\"India\",\"china\",\"England\",\"Germany\",\"braziL\",\"vIETNAM\"]"
   ]
  },
  {
   "cell_type": "markdown",
   "metadata": {},
   "source": [
    "## More Practice Questions:\n",
    "\n",
    "1. Write a program to multiply all items in a list.\n",
    "2. Write a program to have a list of strings. Count the number of items whose length is more than 2 and the first and last character are the same.  \n",
    "        Sample List : ['aaa', 'a', '1231', 'asx']\n",
    "        Expected Result : 2\n",
    "3. Write a program to get a string made of the first 2 and the last 2 chars from a given a string. If the string length is less than 2, return instead of the empty string.\n",
    "Sample: \n",
    "        String : 'coding'\n",
    "        Expected Result : 'cong'\n",
    "        String : 'am'\n",
    "        Expected Result : 'amam'\n",
    "        String : 'a'\n",
    "        Expected Result : Empty String\n",
    "4. Write a program to have 2 strings. Find the last character of each string. Then swap all occurences of the particular characters in both strings. \n",
    "Sample: String1 : \"abc xyz aaa bca\"\n",
    "        String2 : \"zyz hfyz axz\"\n",
    "        Expected Result : String1 : \"zbc xyz zzz bcz\", String2 : \"aya hfya axa\""
   ]
  }
 ],
 "metadata": {
  "kernelspec": {
   "display_name": "Python 3",
   "language": "python",
   "name": "python3"
  },
  "language_info": {
   "codemirror_mode": {
    "name": "ipython",
    "version": 3
   },
   "file_extension": ".py",
   "mimetype": "text/x-python",
   "name": "python",
   "nbconvert_exporter": "python",
   "pygments_lexer": "ipython3",
   "version": "3.7.6"
  }
 },
 "nbformat": 4,
 "nbformat_minor": 2
}
