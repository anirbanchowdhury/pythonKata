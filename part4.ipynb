{
 "cells": [
  {
   "cell_type": "markdown",
   "metadata": {},
   "source": [
    "# Day 4 : 60 min\n",
    "## Goals at end of session \n",
    "\n",
    "1. Able to understand the concepts of Lists\n",
    "2. Able to manipulate and operate on strings\n",
    "\n",
    "\n",
    "\n",
    "## Agenda : \n",
    "1. List and its functions\n",
    "2. String functions"
   ]
  },
  {
   "cell_type": "markdown",
   "metadata": {},
   "source": [
    "## Defining And Accessing Lists:"
   ]
  },
  {
   "cell_type": "markdown",
   "metadata": {},
   "source": [
    "There are multiple ways to form a list in Python. \n",
    "\n",
    "Let's start with the simple one. "
   ]
  },
  {
   "cell_type": "code",
   "execution_count": 122,
   "metadata": {},
   "outputs": [
    {
     "name": "stdout",
     "output_type": "stream",
     "text": [
      "[0, 20, 30]\n",
      "30\n"
     ]
    }
   ],
   "source": [
    "#blank list\n",
    "L1 = []\n",
    "\n",
    "#list of integers\n",
    "L2 = [0,20,30]\n",
    "\n",
    "#list of heterogeneous data types\n",
    "L3 = [1, \"Hello\", 3.4]\n",
    "\n",
    "#print a list\n",
    "print(L2)\n",
    "\n",
    "#print a particular element of a list\n",
    "print(L2[2])"
   ]
  },
  {
   "cell_type": "markdown",
   "metadata": {},
   "source": [
    "The other way to define lists would be to use the List constructor"
   ]
  },
  {
   "cell_type": "code",
   "execution_count": 33,
   "metadata": {},
   "outputs": [],
   "source": [
    "L1 = list([1,2])\n",
    "\n",
    "L2 = list([1, 2, [1.1, 2.2]])"
   ]
  },
  {
   "cell_type": "markdown",
   "metadata": {},
   "source": [
    "## Different functions of Lists\n",
    "\n",
    "There are multiple functions that can be done on a list. Here are a few examples of built-in functions that can be used. You can find the entire list of functions here :- https://www.programiz.com/python-programming/methods/list"
   ]
  },
  {
   "cell_type": "code",
   "execution_count": 53,
   "metadata": {},
   "outputs": [
    {
     "name": "stdout",
     "output_type": "stream",
     "text": [
      "8\n",
      "a\n",
      "z\n",
      "['a', 'b', 'c', 'e', 'f', 'g', 'h', 'z']\n",
      "['a', 'b', 'c', 'd', 'e', 'f', 'g', 'h', 'z']\n",
      "['a', 'b', 'c', 'd', 'e', 'f', 'g', 'h']\n",
      "['a', 'c', 'e', 'g']\n",
      "['d', 'e']\n"
     ]
    }
   ],
   "source": [
    "#Define a list \n",
    "L1 = [\"a\", \"b\", \"c\", \"z\", \"e\", \"f\", \"g\", \"h\"]\n",
    "\n",
    "# find the length of a list\n",
    "print(len(L1))\n",
    "\n",
    "# find the minimum element of a list\n",
    "print(min(L1))\n",
    "\n",
    "# find the maximum element of a list\n",
    "print(max(L1))\n",
    "\n",
    "# sort the elements in a list\n",
    "L1.sort()\n",
    "print(L1)\n",
    "\n",
    "# add a new element to a list\n",
    "L1.insert(3,\"d\")\n",
    "print(L1)\n",
    "\n",
    "# remove an element from the list\n",
    "L1.remove(\"z\")\n",
    "print(L1)\n",
    "\n",
    "# return a slice object - slice(start(opt), stop, step(opt))\n",
    "x = slice(0, 7, 2)\n",
    "print(L1[x])\n",
    "\n",
    "x = slice(3, 5)\n",
    "print(L1[x])"
   ]
  },
  {
   "cell_type": "markdown",
   "metadata": {},
   "source": [
    "### <font color=red> Try it!  </font>\n",
    "\n",
    "Write a program to take in a list, sort it and then print even elements and their average. "
   ]
  },
  {
   "cell_type": "code",
   "execution_count": 119,
   "metadata": {},
   "outputs": [
    {
     "name": "stdout",
     "output_type": "stream",
     "text": [
      "2\n",
      "6\n",
      "1.6\n"
     ]
    }
   ],
   "source": [
    "L1 = [2,5,6,3,1]\n",
    "L1.sort()\n",
    "s = 0\n",
    "for x in L1:\n",
    "    if x % 2 == 0:\n",
    "        print(x)\n",
    "        s += x\n",
    "print(s/len(L1))    \n"
   ]
  },
  {
   "cell_type": "markdown",
   "metadata": {},
   "source": [
    "## String Functions:\n",
    "\n",
    "There are a lot of different functions that can be done with Strings in Python. We will cover the basic functions. \n",
    "You can find the full list of functions here :- https://www.w3schools.com/python/python_ref_string.asp"
   ]
  },
  {
   "cell_type": "code",
   "execution_count": 123,
   "metadata": {},
   "outputs": [
    {
     "name": "stdout",
     "output_type": "stream",
     "text": [
      "2\n",
      "False\n",
      "7\n",
      "PYTHON IS IS AWESOME.\n",
      "['Python', 'is', 'is', 'awesome.']\n",
      "I love programming. Python is is awesome.\n",
      "False\n",
      "Python IS IS awesome.\n"
     ]
    }
   ],
   "source": [
    "# define string\n",
    "s1 = \"Python is is awesome.\"\n",
    "\n",
    "#Returns the number of times a specified value occurs in a string\n",
    "print(s1.count(\"is\"))\n",
    "\n",
    "#check if all strings are numeric\n",
    "print(s1.isnumeric())\n",
    "\n",
    "#find position of a string\n",
    "print(s1.index(\"is\"))\n",
    "\n",
    "#returns string in upper case\n",
    "print(s1.upper())\n",
    "\n",
    "#split a string into a list\n",
    "l = s1.split(\" \")\n",
    "print(l)\n",
    "\n",
    "#join two strings \n",
    "s2 = \"I love programming. \" + s1\n",
    "print(s2)\n",
    "\n",
    "#checks if the string starts with a specific value\n",
    "print(s1.startswith(\" .P\"))\n",
    "\n",
    "#replace a particular part of the string with another string\n",
    "s2= s1.replace(\"is\",\"IS\")\n",
    "print(s2)"
   ]
  },
  {
   "cell_type": "code",
   "execution_count": 124,
   "metadata": {},
   "outputs": [
    {
     "name": "stdout",
     "output_type": "stream",
     "text": [
      "ython is is awesome.\n",
      "Python is \n",
      "ython is \n"
     ]
    }
   ],
   "source": [
    "# define string\n",
    "s1 = \"Python is is awesome.\"\n",
    "\n",
    "#print a part of the string\n",
    "print(s1[1:])\n",
    "print(s1[:10])\n",
    "print(s1[1:10])"
   ]
  },
  {
   "cell_type": "markdown",
   "metadata": {},
   "source": [
    "### <font color=red> Try it!  </font>\n",
    "Write a program to cound the frequency of each vowel in a String."
   ]
  },
  {
   "cell_type": "code",
   "execution_count": 103,
   "metadata": {},
   "outputs": [
    {
     "name": "stdout",
     "output_type": "stream",
     "text": [
      "a = 4\n",
      "e = 2\n",
      "i = 2\n",
      "o = 4\n",
      "u = 1\n"
     ]
    }
   ],
   "source": [
    "s = \"I am going to the market. Do you want anything?\"\n",
    "print(\"a =\",s.count(\"a\"))\n",
    "print(\"e =\",s.count(\"e\"))\n",
    "print(\"i =\",s.count(\"i\"))\n",
    "print(\"o =\",s.count(\"o\"))\n",
    "print(\"u =\",s.count(\"u\"))"
   ]
  },
  {
   "cell_type": "markdown",
   "metadata": {},
   "source": [
    "### <font color=red> Try it!  </font>\n",
    "Take the below list of strings. Go through the list and only print those that have the first letter in upper case."
   ]
  },
  {
   "cell_type": "code",
   "execution_count": 121,
   "metadata": {},
   "outputs": [
    {
     "name": "stdout",
     "output_type": "stream",
     "text": [
      "India\n",
      "England\n",
      "Germany\n",
      "India\n",
      "England\n",
      "Germany\n"
     ]
    }
   ],
   "source": [
    "listofCountries = [\"India\",\"china\",\"England\",\"Germany\",\"braziL\",\"vIETNAM\"]\n",
    "\n",
    "#1\n",
    "for country in listofCountries:\n",
    "    if(country.istitle()):\n",
    "        print(country)\n",
    "#2        \n",
    "for country in listofCountries:\n",
    "    if(country[0].isupper()):\n",
    "        print(country)       "
   ]
  },
  {
   "cell_type": "markdown",
   "metadata": {},
   "source": [
    "## More Practice Questions:\n",
    "\n",
    "1. Write a program to multiply all items in a list.\n",
    "2. Write a program to have a list of strings. Count the number of items whose length is more than 2 and the first and last character are the same.  \n",
    "        Sample List : ['aaa', 'a', '1231', 'asx']\n",
    "        Expected Result : 2\n",
    "3. Write a program to get a string made of the first 2 and the last 2 chars from a given a string. If the string length is less than 2, return instead of the empty string.\n",
    "Sample: String : 'coding'\n",
    "        Expected Result : 'cong'\n",
    "        String : 'am'\n",
    "        Expected Result : 'amam'\n",
    "        String : 'a'\n",
    "        Expected Result : Empty String\n",
    "4. Write a program to have 2 strings. Find the last character of each string. Then swap all occurences of the particular characters in both strings. \n",
    "Sample: String1 : \"abc xyz aaa bca\"\n",
    "        String2 : \"zyz hfyz axz\"\n",
    "        Expected Result : String1 : \"zbc xyz zzz bcz\", String2 : \"aya hfya axa\""
   ]
  },
  {
   "cell_type": "markdown",
   "metadata": {},
   "source": [
    "### <font color=red> Try it!  </font>\n",
    "\n",
    "1. We have a list of countries. We want to print the countries and the first letter of each country. \n",
    "2. We want to add another country China to the list. \n",
    "3. We want to replace USA with Australia. \n",
    "4. How many countries are there in the list now ?\n",
    "5. We want to print only the 2nd and 3rd country in the list\n",
    "6. Arrange the list according to alphabetic order and print the first and last country \n",
    "7. Remove India from the list of countries"
   ]
  },
  {
   "cell_type": "code",
   "execution_count": 32,
   "metadata": {},
   "outputs": [
    {
     "name": "stdout",
     "output_type": "stream",
     "text": [
      "['India', 'USA', 'England', 'Germany', 'Brazil', 'Vietnam']\n",
      "['I', 'U', 'E', 'G', 'B', 'V']\n"
     ]
    }
   ],
   "source": [
    "listofCountries = [\"India\",\"USA\",\"England\",\"Germany\",\"Brazil\",\"Vietnam\"]\n",
    "\n",
    "firstLetters = [ country[0] for country in listofCountries ]\n",
    "\n",
    "print(listofCountries)\n",
    "print(firstLetters)"
   ]
  },
  {
   "cell_type": "code",
   "execution_count": 33,
   "metadata": {},
   "outputs": [
    {
     "name": "stdout",
     "output_type": "stream",
     "text": [
      "['China', 'India', 'USA', 'England', 'Germany', 'Brazil', 'Vietnam']\n",
      "['China', 'India', 'Australia', 'England', 'Germany', 'Brazil', 'Vietnam']\n"
     ]
    }
   ],
   "source": [
    "listofCountries.insert(0,\"China\")\n",
    "print(listofCountries)\n",
    "listofCountries[2]=\"Australia\"\n",
    "print(listofCountries)"
   ]
  },
  {
   "cell_type": "code",
   "execution_count": 34,
   "metadata": {},
   "outputs": [
    {
     "name": "stdout",
     "output_type": "stream",
     "text": [
      "7\n"
     ]
    }
   ],
   "source": [
    "print(len(listofCountries))"
   ]
  },
  {
   "cell_type": "code",
   "execution_count": 35,
   "metadata": {},
   "outputs": [
    {
     "name": "stdout",
     "output_type": "stream",
     "text": [
      "['India', 'Australia']\n"
     ]
    }
   ],
   "source": [
    "print(listofCountries[1:3])"
   ]
  },
  {
   "cell_type": "code",
   "execution_count": 36,
   "metadata": {},
   "outputs": [
    {
     "name": "stdout",
     "output_type": "stream",
     "text": [
      "Australia\n",
      "Vietnam\n"
     ]
    }
   ],
   "source": [
    "print(min(listofCountries))\n",
    "print(max(listofCountries))"
   ]
  },
  {
   "cell_type": "code",
   "execution_count": 37,
   "metadata": {},
   "outputs": [
    {
     "name": "stdout",
     "output_type": "stream",
     "text": [
      "['China', 'Australia', 'England', 'Germany', 'Brazil', 'Vietnam']\n"
     ]
    }
   ],
   "source": [
    "listofCountries.remove(\"India\")\n",
    "print(listofCountries)"
   ]
  },
  {
   "cell_type": "markdown",
   "metadata": {},
   "source": [
    "## Quiz Questions"
   ]
  },
  {
   "cell_type": "code",
   "execution_count": 116,
   "metadata": {},
   "outputs": [
    {
     "name": "stdout",
     "output_type": "stream",
     "text": [
      "I am a\n"
     ]
    }
   ],
   "source": [
    "sentence = 'I am an expert in python now'\n",
    "print(sentence[:6])"
   ]
  },
  {
   "cell_type": "code",
   "execution_count": 118,
   "metadata": {},
   "outputs": [
    {
     "name": "stdout",
     "output_type": "stream",
     "text": [
      "r\n"
     ]
    }
   ],
   "source": [
    "s1 = \"Where are you?\"\n",
    "s2 = \"What are you doing?\"\n",
    "index = s1.index(\"are\")\n",
    "print(s2[index])"
   ]
  }
 ],
 "metadata": {
  "kernelspec": {
   "display_name": "Python 3",
   "language": "python",
   "name": "python3"
  },
  "language_info": {
   "codemirror_mode": {
    "name": "ipython",
    "version": 3
   },
   "file_extension": ".py",
   "mimetype": "text/x-python",
   "name": "python",
   "nbconvert_exporter": "python",
   "pygments_lexer": "ipython3",
   "version": "3.7.6"
  }
 },
 "nbformat": 4,
 "nbformat_minor": 2
}
