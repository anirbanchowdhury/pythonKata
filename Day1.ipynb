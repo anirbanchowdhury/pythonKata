{
 "cells": [
  {
   "cell_type": "markdown",
   "metadata": {},
   "source": [
    "# Day 1 : 60 min\n",
    "\n",
    "## Goals at end of session \n",
    "Everyone can run a sample Jupyter notebook and has learnt very basic Python(variables, datatypes)\n",
    "\n",
    "## Agenda : \n",
    "Basic explanation of Python language \n",
    "(very high level,  for <14 year olds or people who have no prior programming experience. \n",
    "\n",
    "## Pre-requisite : \n",
    "Follow Day -1 Anaconda Setup.docx\n",
    "\n"
   ]
  },
  {
   "cell_type": "markdown",
   "metadata": {},
   "source": [
    "\n",
    "### <font color=red> Try it!  </font>\n",
    "    \n",
    "Click on the grey box below, you should see a cursor blink\n",
    "Click shift + enter and see what happens"
   ]
  },
  {
   "cell_type": "code",
   "execution_count": null,
   "metadata": {},
   "outputs": [],
   "source": [
    "21"
   ]
  },
  {
   "cell_type": "markdown",
   "metadata": {},
   "source": [
    "## Some definitions \n",
    "\n",
    "### Computer Programs\n",
    "\n",
    "Computer programs or software is a set of instructions that tells a computer what to do or how to perform a task. Eg. of a software program is Outlook and the set of instructions might be open that email. Another example is Excel or Word etc. \n",
    "Its like a TODO list, if you can understand a TODO list, you can understand a program\n",
    "\n",
    "### Programming\n",
    "Programming is the art and science of creating computer programs by typing out the list of instructions that we want the computer to execute in order to accomplish our objective. This might appear challenging at first, but you will find that it becomes easier with practice. \n",
    "\n",
    "\n",
    "### Programming Language\n",
    "Just like any other human language, a programming language has alphabet, symbols and rules/grammar. Instead of communicating to a human being, we will use it to communicate with the computer to execute what we want and how we want it. An eg. of a programming language is Python\n",
    "\n",
    "OK enough theory, lets get started ! "
   ]
  },
  {
   "cell_type": "code",
   "execution_count": null,
   "metadata": {},
   "outputs": [],
   "source": [
    "4+7"
   ]
  },
  {
   "cell_type": "code",
   "execution_count": null,
   "metadata": {},
   "outputs": [],
   "source": [
    "1-2"
   ]
  },
  {
   "cell_type": "code",
   "execution_count": null,
   "metadata": {},
   "outputs": [],
   "source": [
    "2+(5/2)"
   ]
  },
  {
   "cell_type": "markdown",
   "metadata": {},
   "source": [
    "### Introduce variables - containers of data, explain why variables are necessary "
   ]
  },
  {
   "cell_type": "code",
   "execution_count": null,
   "metadata": {},
   "outputs": [],
   "source": [
    "# if you have to buy 3 pens which cost 10$ each, how much will it cost in total \n",
    "3*10"
   ]
  },
  {
   "cell_type": "code",
   "execution_count": null,
   "metadata": {},
   "outputs": [],
   "source": [
    "# How much do you have to pay if the shopkeeper gives you a 10% discount ? \n",
    "(3*10)*(100-10)/100"
   ]
  },
  {
   "cell_type": "code",
   "execution_count": null,
   "metadata": {},
   "outputs": [],
   "source": [
    "# what if the price now changes to 11$ and you want to buy 4 pens and the shopkeeper wants to give you a 15% discount ? \n",
    "\n",
    "number_of_pens = 4\n",
    "cost_per_pen = 11\n",
    "discount = 15\n",
    "price_before_discount = number_of_pens*cost_per_pen\n",
    "print(price_before_discount)\n",
    "price_after_discount = price_before_discount * (100-discount)/100\n",
    "price_after_discount"
   ]
  },
  {
   "cell_type": "markdown",
   "metadata": {},
   "source": [
    "\n",
    "### <font color=red> Try it!  </font>\n",
    "#### Exercise for 12-15 year olds\n",
    "\n",
    "1. We own 5 pens like above\n",
    "2. We initially bought those pens for `10$` per pen.\n",
    "3. We now want to sell our pens for `20$` per pen \n",
    "4. We must give a `3$` flat discount.\n",
    "\n",
    "Write a short program that declares following variables and sets them each to the appropriate values from the list above:\n",
    "\n",
    "1. number_of_pens\n",
    "2. cost_price\n",
    "3. sell_price\n",
    "4. flat_discount\n",
    "\n",
    "Now calculate the profit and store it in a variable named  profit <br>\n",
    "Print out content of variable profit.\n",
    "\n",
    "\n"
   ]
  },
  {
   "cell_type": "code",
   "execution_count": null,
   "metadata": {},
   "outputs": [],
   "source": [
    "number_of_pens=5\n",
    "cost_price = 10\n",
    "sell_price=20\n",
    "flat_discount = 3\n",
    "profit = number_of_pens*(sell_price-cost_price) - flat_discount\n",
    "profit"
   ]
  },
  {
   "cell_type": "code",
   "execution_count": null,
   "metadata": {},
   "outputs": [],
   "source": [
    "assert(number_of_pens==5)\n",
    "assert(cost_price == 10)\n",
    "assert(sell_price == 20)\n",
    "assert(flat_discount == 3)\n",
    "assert(profit == 47)"
   ]
  },
  {
   "cell_type": "code",
   "execution_count": null,
   "metadata": {},
   "outputs": [],
   "source": [
    "### End of day 1 : learnt fundamental about Python , interpreted language, variables "
   ]
  }
 ],
 "metadata": {
  "kernelspec": {
   "display_name": "Python 3",
   "language": "python",
   "name": "python3"
  },
  "language_info": {
   "codemirror_mode": {
    "name": "ipython",
    "version": 3
   },
   "file_extension": ".py",
   "mimetype": "text/x-python",
   "name": "python",
   "nbconvert_exporter": "python",
   "pygments_lexer": "ipython3",
   "version": "3.7.4"
  }
 },
 "nbformat": 4,
 "nbformat_minor": 2
}
