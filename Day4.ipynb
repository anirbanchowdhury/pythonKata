{
 "cells": [
  {
   "cell_type": "markdown",
   "metadata": {},
   "source": [
    "# Day 4 : 60 min\n",
    "## Goals at end of session \n",
    "Folks understand the concept of boolean/conditional logic,loops, imported libraries \n",
    "\n",
    "## Agenda : \n",
    "1. If/else, nested if/else, indentation, store output of if/else into a variable <br>\n",
    "2. Loop - which consumes from a list<br>\n",
    "3. Import math module and call some inbuilt functions <br> \n",
    "4. Function which applies all concepts learnt so far \n",
    "\n"
   ]
  }
 ],
 "metadata": {
  "kernelspec": {
   "display_name": "Python 3",
   "language": "python",
   "name": "python3"
  },
  "language_info": {
   "codemirror_mode": {
    "name": "ipython",
    "version": 3
   },
   "file_extension": ".py",
   "mimetype": "text/x-python",
   "name": "python",
   "nbconvert_exporter": "python",
   "pygments_lexer": "ipython3",
   "version": "3.7.4"
  }
 },
 "nbformat": 4,
 "nbformat_minor": 2
}
